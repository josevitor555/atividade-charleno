{
 "cells": [
  {
   "cell_type": "markdown",
   "id": "6373cd08",
   "metadata": {},
   "source": [
    "### Previsão de doenças cardíacas"
   ]
  },
  {
   "cell_type": "markdown",
   "id": "5cf12c3a",
   "metadata": {},
   "source": [
    "#### Colunas do dataset (tarduzido)"
   ]
  },
  {
   "cell_type": "code",
   "execution_count": null,
   "id": "8765325b",
   "metadata": {},
   "outputs": [],
   "source": [
    "# | Coluna     | Significado                                         | Conjuntos fuzzy possíveis                       |\n",
    "# | ---------- | --------------------------------------------------- | ----------------------------------------------- |\n",
    "# | `age`      | Idade em anos                                       | jovem / meia-idade / idoso                      |\n",
    "# | `sex`      | Sexo (0=fem, 1=masc)                                | homem / mulher                                  |\n",
    "# | `cp`       | Tipo de dor no peito (0-3)                          | típica / atípica / não-anginosa / assintomática |\n",
    "# | `trestbps` | Pressão arterial em repouso (mm Hg)                 | baixa / normal / alta                           |\n",
    "# | `chol`     | Colesterol sérico (mg/dl)                           | baixo / moderado / alto                         |\n",
    "# | `fbs`      | Glicose em jejum > 120 mg/dl (1=sim)                | normal / elevado                                |\n",
    "# | `restecg`  | Resultado do ECG                                    | normal / anormal leve / anormal grave           |\n",
    "# | `thalach`  | Frequência cardíaca máxima                          | baixa / ideal / alta                            |\n",
    "# | `exang`    | Angina induzida por exercício (1=sim)               | sim / não                                       |\n",
    "# | `oldpeak`  | Depressão de ST induzida por exercício (vs repouso) | nenhuma / moderada / severa                     |\n",
    "# | `slope`    | Inclinação do segmento ST                           | ascendente / plano / descendente                |\n",
    "# | `ca`       | N° de vasos principais visíveis no exame            | nenhum / poucos / muitos                        |\n",
    "# | `thal`     | Resultado do exame thalium                          | normal / defeito fixo / reversível              |\n",
    "# | `target`   | Doença cardíaca (1=sim / 0=não)                     | doente / saudável                               |\n"
   ]
  },
  {
   "cell_type": "markdown",
   "id": "55d1dde6",
   "metadata": {},
   "source": [
    "#### Exemplos de regras fuzzy"
   ]
  },
  {
   "cell_type": "code",
   "execution_count": null,
   "id": "d482018c",
   "metadata": {},
   "outputs": [],
   "source": [
    "# SE idade é idoso E colesterol é alto E pressão é alta → risco cardíaco é alto  \n",
    "# SE dor no peito é típica E thal é reversível E ST é descendente → risco é alto  \n",
    "# SE idade é jovem E angina = não E ECG = normal → risco é baixo  \n",
    "# SE glicose alta E thalach baixo → risco é moderado  "
   ]
  },
  {
   "cell_type": "markdown",
   "id": "1338aabe",
   "metadata": {},
   "source": [
    "### Passo 1: Contexto Médico (10 min)"
   ]
  },
  {
   "cell_type": "markdown",
   "id": "431cab38",
   "metadata": {},
   "source": [
    "#### Cenário Clínico"
   ]
  },
  {
   "cell_type": "code",
   "execution_count": null,
   "id": "828d49c9",
   "metadata": {},
   "outputs": [],
   "source": [
    "# \"Vocês são residentes de cardiologia. Um paciente chega com:\n",
    "# - Dor no peito 'estranha'\n",
    "# - Pressão 'um pouco alta'\n",
    "# - Exames 'limítrofes'\n",
    "\n",
    "# Como decidir o risco? Protocolos médicos são naturalmente fuzzy!\""
   ]
  },
  {
   "cell_type": "markdown",
   "id": "6b0686a5",
   "metadata": {},
   "source": [
    "#### Exploração do dataset"
   ]
  },
  {
   "cell_type": "code",
   "execution_count": null,
   "id": "2e6204c8",
   "metadata": {},
   "outputs": [],
   "source": [
    "# cardio = CardiologistaFuzzy()\n",
    "# data = cardio.carregar_dataset()\n",
    "\n",
    "# # ATIVIDADE: Identifiquem os \"red flags\" médicos\n",
    "# print(\"🏥 Quais variáveis são mais críticas para cardiologistas?\""
   ]
  },
  {
   "cell_type": "markdown",
   "id": "d78a6dcf",
   "metadata": {},
   "source": [
    "### Passo 2: Sistema de Diagnóstico (30 min)"
   ]
  },
  {
   "cell_type": "markdown",
   "id": "a82a56d7",
   "metadata": {},
   "source": [
    "#### Regras Médicas Reais"
   ]
  },
  {
   "cell_type": "code",
   "execution_count": null,
   "id": "2d33aebb",
   "metadata": {},
   "outputs": [],
   "source": [
    "print(\"📚 CONHECIMENTO MÉDICO REAL:\")\n",
    "print(\"• Homens >45 anos = fator de risco\")\n",
    "print(\"• Pressão >140/90 = hipertensão\")\n",
    "print(\"• Colesterol >240 = alto risco\")\n",
    "print(\"• ST depression >1mm = isquemia provável\")"
   ]
  },
  {
   "cell_type": "markdown",
   "id": "4bcdbb3c",
   "metadata": {},
   "source": [
    "### Passo 3: Validação Clínica (20 min)"
   ]
  },
  {
   "cell_type": "markdown",
   "id": "29548082",
   "metadata": {},
   "source": [
    "#### Casos Clínicos Reais"
   ]
  },
  {
   "cell_type": "code",
   "execution_count": null,
   "id": "65e3f9b6",
   "metadata": {},
   "outputs": [],
   "source": [
    "casos_clinicos = [\n",
    "    {\n",
    "        'perfil': 'Executivo 45 anos, sedentário',\n",
    "        'dados': {...},\n",
    "        'desafio': 'Risco não óbvio'\n",
    "    },\n",
    "    {\n",
    "        'perfil': 'Atleta 30 anos, exames alterados',\n",
    "        'dados': {...},\n",
    "        'desafio': 'Contradição aparente'\n",
    "    }\n",
    "]"
   ]
  },
  {
   "cell_type": "markdown",
   "id": "d0224bf4",
   "metadata": {},
   "source": [
    "#### Comparação Com Protocolos"
   ]
  },
  {
   "cell_type": "code",
   "execution_count": null,
   "id": "f900f656",
   "metadata": {},
   "outputs": [],
   "source": [
    "# Comparar com Score de Framingham\n",
    "# Calcular sensibilidade/especificidade\n",
    "# Discutir falsos positivos vs negativos"
   ]
  },
  {
   "cell_type": "code",
   "execution_count": null,
   "id": "d8eed01f",
   "metadata": {},
   "outputs": [],
   "source": []
  },
  {
   "cell_type": "markdown",
   "id": "9fdb5383",
   "metadata": {},
   "source": [
    "#### Implementação Colaborativa (20min)"
   ]
  },
  {
   "cell_type": "code",
   "execution_count": null,
   "id": "96fd0ec8",
   "metadata": {},
   "outputs": [],
   "source": [
    "# DESAFIO POR GRUPOS:\n",
    "# Grupo 1: Sistema de URGÊNCIA (triagem)\n",
    "# Grupo 2: Sistema de PROGNÓSTICO (evolução)\n",
    "# Grupo 3: Sistema de PREVENÇÃO (lifestyle)\n",
    "# Grupo 4: Sistema PEDIÁTRICO (crianças)"
   ]
  },
  {
   "cell_type": "markdown",
   "id": "01d98488",
   "metadata": {},
   "source": []
  },
  {
   "cell_type": "code",
   "execution_count": null,
   "id": "10d0f6e9",
   "metadata": {},
   "outputs": [
    {
     "name": "stdout",
     "output_type": "stream",
     "text": [
      "Meu Deus, que dia lindo!\n"
     ]
    }
   ],
   "source": []
  }
 ],
 "metadata": {
  "kernelspec": {
   "display_name": "Python 3",
   "language": "python",
   "name": "python3"
  },
  "language_info": {
   "codemirror_mode": {
    "name": "ipython",
    "version": 3
   },
   "file_extension": ".py",
   "mimetype": "text/x-python",
   "name": "python",
   "nbconvert_exporter": "python",
   "pygments_lexer": "ipython3",
   "version": "3.13.2"
  }
 },
 "nbformat": 4,
 "nbformat_minor": 5
}
