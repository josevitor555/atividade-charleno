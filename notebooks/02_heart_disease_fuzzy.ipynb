{
 "cells": [
  {
   "cell_type": "markdown",
   "id": "6373cd08",
   "metadata": {},
   "source": [
    "### Previsão de doenças cardíacas"
   ]
  },
  {
   "cell_type": "code",
   "execution_count": 1,
   "id": "3fab528b",
   "metadata": {},
   "outputs": [],
   "source": [
    "#  \"PROJETO 2: Heart Disease (60 min)\", um projeto educacional baseado em lógica fuzzy para avaliação de risco de doenças cardíacas. O projeto inclui: análise exploratória com identificação de variáveis críticas (\"red flags\"), implementação de regras médicas reais (como hipertensão e isquemia), construção colaborativa de sistemas fuzzy por grupos (urgência, prognóstico, prevenção, pediatria) e validação clínica com casos reais e comparação com o Score de Framingham."
   ]
  },
  {
   "cell_type": "markdown",
   "id": "5cf12c3a",
   "metadata": {},
   "source": [
    "#### Colunas do dataset (tarduzido)"
   ]
  },
  {
   "cell_type": "code",
   "execution_count": 2,
   "id": "8765325b",
   "metadata": {},
   "outputs": [],
   "source": [
    "# | Coluna     | Significado                                         | Conjuntos fuzzy possíveis                       |\n",
    "# | ---------- | --------------------------------------------------- | ----------------------------------------------- |\n",
    "# | `age`      | Idade em anos                                       | jovem / meia-idade / idoso                      |\n",
    "# | `sex`      | Sexo (0=fem, 1=masc)                                | homem / mulher                                  |\n",
    "# | `cp`       | Tipo de dor no peito (0-3)                          | típica / atípica / não-anginosa / assintomática |\n",
    "# | `trestbps` | Pressão arterial em repouso (mm Hg)                 | baixa / normal / alta                           |\n",
    "# | `chol`     | Colesterol sérico (mg/dl)                           | baixo / moderado / alto                         |\n",
    "# | `fbs`      | Glicose em jejum > 120 mg/dl (1=sim)                | normal / elevado                                |\n",
    "# | `restecg`  | Resultado do ECG                                    | normal / anormal leve / anormal grave           |\n",
    "# | `thalach`  | Frequência cardíaca máxima                          | baixa / ideal / alta                            |\n",
    "# | `exang`    | Angina induzida por exercício (1=sim)               | sim / não                                       |\n",
    "# | `oldpeak`  | Depressão de ST induzida por exercício (vs repouso) | nenhuma / moderada / severa                     |\n",
    "# | `slope`    | Inclinação do segmento ST                           | ascendente / plano / descendente                |\n",
    "# | `ca`       | N° de vasos principais visíveis no exame            | nenhum / poucos / muitos                        |\n",
    "# | `thal`     | Resultado do exame thalium                          | normal / defeito fixo / reversível              |\n",
    "# | `target`   | Doença cardíaca (1=sim / 0=não)                     | doente / saudável                               |\n"
   ]
  },
  {
   "cell_type": "markdown",
   "id": "55d1dde6",
   "metadata": {},
   "source": [
    "#### Exemplos de regras fuzzy"
   ]
  },
  {
   "cell_type": "code",
   "execution_count": 3,
   "id": "d482018c",
   "metadata": {},
   "outputs": [],
   "source": [
    "# Exemplo de regra fuzzy\n",
    "# SE idade > 45 E sexo == masculino E colesterol > 240 → risco = alto\n",
    "# SE dor_peito == típica E oldpeak > 1.0 → risco = alto\n",
    "# SE pressão entre 120 e 140 → risco = moderado\n",
    "# SE thalach < 100 → risco = moderado/alto\n",
    "# SE dor_peito == assintomática E ST descendente → risco = muito alto"
   ]
  },
  {
   "cell_type": "markdown",
   "id": "1338aabe",
   "metadata": {},
   "source": [
    "### Passo 1: Contexto Médico (10 min)"
   ]
  },
  {
   "cell_type": "code",
   "execution_count": 4,
   "id": "b094d835",
   "metadata": {},
   "outputs": [],
   "source": [
    "# Red Flags Médicas — o que acende o alerta vermelho?\n",
    "\n",
    "# | Variável                    | Por quê é crítica?                                        |\n",
    "# | --------------------------- | --------------------------------------------------------- |\n",
    "# | `age`                       | Homens >45 e mulheres >55 têm risco aumentado.            |\n",
    "# | `sex`                       | Homens têm maior predisposição precoce.                   |\n",
    "# | `cp` (tipo de dor no peito) | Dor típica é indício forte de angina.                     |\n",
    "# | `trestbps`                  | >140 mmHg = hipertensão.                                  |\n",
    "# | `chol`                      | >240 mg/dL = hipercolesterolemia.                         |\n",
    "# | `fbs`                       | Glicemia >120 mg/dL = possível diabetes.                  |\n",
    "# | `thalach`                   | Frequência cardíaca baixa no esforço é sinal de isquemia. |\n",
    "# | `exang`                     | Se sim, maior risco de angina/infarto.                    |\n",
    "# | `oldpeak`                   | ST depression >1mm = provável isquemia.                   |\n",
    "# | `slope`                     | ST descendente = padrão de infarto.                       |\n",
    "# | `ca`                        | Mais vasos com obstrução = maior gravidade.               |\n",
    "# | `thal`                      | Defeitos reversíveis são sinais de dano funcional.        |\n"
   ]
  },
  {
   "cell_type": "markdown",
   "id": "431cab38",
   "metadata": {},
   "source": [
    "#### Cenário Clínico"
   ]
  },
  {
   "cell_type": "code",
   "execution_count": 5,
   "id": "828d49c9",
   "metadata": {},
   "outputs": [],
   "source": [
    "# \"Vocês são residentes de cardiologia. Um paciente chega com:\n",
    "# - Dor no peito 'estranha'\n",
    "# - Pressão 'um pouco alta'\n",
    "# - Exames 'limítrofes'\n",
    "\n",
    "# Como decidir o risco? Protocolos médicos são naturalmente fuzzy!\""
   ]
  },
  {
   "cell_type": "markdown",
   "id": "6b0686a5",
   "metadata": {},
   "source": [
    "#### Exploração do dataset"
   ]
  },
  {
   "cell_type": "code",
   "execution_count": 6,
   "id": "2e6204c8",
   "metadata": {},
   "outputs": [],
   "source": [
    "# cardio = CardiologistaFuzzy()\n",
    "# data = cardio.carregar_dataset()\n",
    "\n",
    "# # ATIVIDADE: Identifiquem os \"red flags\" médicos\n",
    "# print(\"🏥 Quais variáveis são mais críticas para cardiologistas?\""
   ]
  },
  {
   "cell_type": "markdown",
   "id": "d78a6dcf",
   "metadata": {},
   "source": [
    "### Passo 2: Sistema de Diagnóstico (30 min)"
   ]
  },
  {
   "cell_type": "markdown",
   "id": "a82a56d7",
   "metadata": {},
   "source": [
    "#### Regras Médicas Reais"
   ]
  },
  {
   "cell_type": "code",
   "execution_count": 7,
   "id": "2d33aebb",
   "metadata": {},
   "outputs": [
    {
     "name": "stdout",
     "output_type": "stream",
     "text": [
      "📚 CONHECIMENTO MÉDICO REAL:\n",
      "• Homens >45 anos = fator de risco\n",
      "• Pressão >140/90 = hipertensão\n",
      "• Colesterol >240 = alto risco\n",
      "• ST depression >1mm = isquemia provável\n"
     ]
    }
   ],
   "source": [
    "print(\"📚 CONHECIMENTO MÉDICO REAL:\")\n",
    "print(\"• Homens >45 anos = fator de risco\")\n",
    "print(\"• Pressão >140/90 = hipertensão\")\n",
    "print(\"• Colesterol >240 = alto risco\")\n",
    "print(\"• ST depression >1mm = isquemia provável\")"
   ]
  },
  {
   "cell_type": "markdown",
   "id": "4bcdbb3c",
   "metadata": {},
   "source": [
    "### Passo 3: Validação Clínica (20 min)"
   ]
  },
  {
   "cell_type": "markdown",
   "id": "29548082",
   "metadata": {},
   "source": [
    "#### Casos Clínicos Reais"
   ]
  },
  {
   "cell_type": "code",
   "execution_count": 8,
   "id": "65e3f9b6",
   "metadata": {},
   "outputs": [],
   "source": [
    "casos_clinicos = [\n",
    "    {\n",
    "        'perfil': 'Executivo 45 anos, sedentário',\n",
    "        'dados': {...},\n",
    "        'desafio': 'Risco não óbvio'\n",
    "    },\n",
    "    {\n",
    "        'perfil': 'Atleta 30 anos, exames alterados',\n",
    "        'dados': {...},\n",
    "        'desafio': 'Contradição aparente'\n",
    "    }\n",
    "]"
   ]
  },
  {
   "cell_type": "markdown",
   "id": "d0224bf4",
   "metadata": {},
   "source": [
    "#### Comparação Com Protocolos"
   ]
  },
  {
   "cell_type": "code",
   "execution_count": 9,
   "id": "f900f656",
   "metadata": {},
   "outputs": [],
   "source": [
    "# Comparar com Score de Framingham\n",
    "# Calcular sensibilidade/especificidade\n",
    "# Discutir falsos positivos vs negativos"
   ]
  },
  {
   "cell_type": "markdown",
   "id": "9fdb5383",
   "metadata": {},
   "source": [
    "#### Implementação Colaborativa (20min)"
   ]
  },
  {
   "cell_type": "code",
   "execution_count": 10,
   "id": "96fd0ec8",
   "metadata": {},
   "outputs": [],
   "source": [
    "# DESAFIO POR GRUPOS:\n",
    "# Grupo 1: Sistema de URGÊNCIA (triagem)\n",
    "# Grupo 2: Sistema de PROGNÓSTICO (evolução)\n",
    "# Grupo 3: Sistema de PREVENÇÃO (lifestyle)\n",
    "# Grupo 4: Sistema PEDIÁTRICO (crianças)"
   ]
  },
  {
   "cell_type": "code",
   "execution_count": 11,
   "id": "56958ee8",
   "metadata": {},
   "outputs": [],
   "source": [
    "# | Grupo      | Missão                                                                                                     |\n",
    "# | ---------- | ---------------------------------------------------------------------------------------------------------- |\n",
    "# | 🩸 Grupo 1 | **Urgência** → detectar pacientes de alto risco imediato (triagem de emergência)                           |\n",
    "# | 🔮 Grupo 2 | **Prognóstico** → prever evolução da doença com base em múltiplos fatores                                  |\n",
    "# | 🧘 Grupo 3 | **Prevenção** → identificar pacientes em risco leve/moderado que precisam mudar o estilo de vida           |\n",
    "# | 🧒 Grupo 4 | **Pediátrico** → adaptar sistema para crianças/adolescentes (idade <18, foco em obesidade/hereditariedade) |"
   ]
  },
  {
   "cell_type": "markdown",
   "id": "ae35d474",
   "metadata": {},
   "source": [
    "### Bonus: Validação Técnia"
   ]
  },
  {
   "cell_type": "code",
   "execution_count": 12,
   "id": "8ca258c9",
   "metadata": {},
   "outputs": [],
   "source": [
    "# 1 - Calcular sensibilidade (detectar corretamente os doentes)\n",
    "# 2 - Calcular especificidade (não chamar de doente quem tá saudável)\n",
    "# 3 - Comparar falsos positivos (excesso de cuidado) vs falsos negativos (passou batido!)"
   ]
  },
  {
   "cell_type": "markdown",
   "id": "183b5c49",
   "metadata": {},
   "source": [
    "### Mão na massa (Quer dizer, no código)"
   ]
  },
  {
   "cell_type": "markdown",
   "id": "8950575b",
   "metadata": {},
   "source": [
    "#### Estrutura da classe"
   ]
  },
  {
   "cell_type": "code",
   "execution_count": 13,
   "id": "3f7fd5d7",
   "metadata": {},
   "outputs": [],
   "source": [
    "# CardiologistaFuzzy()\n",
    "# ├── carregar_dataset()\n",
    "# ├── definir_variaveis_fuzzy()\n",
    "# ├── adicionar_regras()\n",
    "# ├── construir_sistema()\n",
    "# ├── avaliar_paciente(dados)\n",
    "# ├── validar_com_target(X, y)\n",
    "# └── avaliar_caso_clinico(perfil, dados, target)"
   ]
  },
  {
   "cell_type": "markdown",
   "id": "f9e4f332",
   "metadata": {},
   "source": [
    "#### Importando as libs (bibliotecas)"
   ]
  },
  {
   "cell_type": "code",
   "execution_count": 14,
   "id": "ec7331b8",
   "metadata": {},
   "outputs": [
    {
     "name": "stderr",
     "output_type": "stream",
     "text": [
      "\n",
      "[notice] A new release of pip is available: 24.3.1 -> 25.1.1\n",
      "[notice] To update, run: python.exe -m pip install --upgrade pip\n"
     ]
    },
    {
     "name": "stdout",
     "output_type": "stream",
     "text": [
      "Requirement already satisfied: networkx in c:\\users\\jocil\\appdata\\local\\programs\\python\\python313\\lib\\site-packages (3.5)\n",
      "Note: you may need to restart the kernel to use updated packages.\n"
     ]
    }
   ],
   "source": [
    "# Imports padronizados\n",
    "\n",
    "%pip install networkx\n",
    "\n",
    "import pandas as pd\n",
    "import numpy as np\n",
    "import matplotlib.pyplot as plt\n",
    "import seaborn as sns\n",
    "import skfuzzy as fuzz\n",
    "from skfuzzy import control as ctrl\n",
    "import warnings\n",
    "warnings.filterwarnings('ignore')\n",
    "\n",
    "# Configurações visuais\n",
    "plt.style.use('seaborn-v0_8')\n",
    "plt.rcParams['figure.figsize'] = (12, 8)\n",
    "plt.rcParams['font.size'] = 12\n",
    "\n",
    "# Funções utilitárias\n",
    "def print_section(title):\n",
    "    print(\"=\"*60)\n",
    "    print(f\"🎯 {title}\")\n",
    "    print(\"=\"*60)\n",
    "\n",
    "def print_task(task):\n",
    "    print(f\"\\n✅ TAREFA: {task}\")\n",
    "    print(\"-\"*40)"
   ]
  },
  {
   "cell_type": "code",
   "execution_count": 15,
   "id": "9f55974e",
   "metadata": {},
   "outputs": [
    {
     "name": "stdout",
     "output_type": "stream",
     "text": [
      "🔐 Username: josvitordesousa\n",
      "🔑 API Key: d1018f3da0950659bf2dbeff9a67c0a0\n"
     ]
    }
   ],
   "source": [
    "import json\n",
    "\n",
    "# Abrir e carregar o conteúdo do kaggle.json\n",
    "with open('../kaggle/kaggle.json', 'r') as file:\n",
    "    creds = json.load(file)\n",
    "\n",
    "# Extrair manualmente\n",
    "username = creds['username']\n",
    "key = creds['key']\n",
    "\n",
    "print(f\"🔐 Username: {username}\")\n",
    "print(f\"🔑 API Key: {key}\")\n"
   ]
  },
  {
   "cell_type": "markdown",
   "id": "a23258a9",
   "metadata": {},
   "source": [
    "#### Construindo a classe"
   ]
  },
  {
   "cell_type": "code",
   "execution_count": 29,
   "id": "0a9cb0fa",
   "metadata": {},
   "outputs": [],
   "source": [
    "class CardiologistaFuzzy:\n",
    "    \n",
    "    def __init__(self, path_dataset=\"../datasets/heart_disease.csv\"):\n",
    "        \n",
    "        self.path = path_dataset\n",
    "        self.dataset = None\n",
    "        \n",
    "        # Variáveis fuzzy\n",
    "        self.age = None\n",
    "        self.chol = None\n",
    "        self.trestbps = None\n",
    "        self.oldpeak = None\n",
    "        self.risco = None # Variável de saída\n",
    "        \n",
    "        self.rules = []\n",
    "        self.system = None\n",
    "        self.simulation = None\n",
    "    \n",
    "    # Carrega o dataset\n",
    "    def carregar_dataset(self):\n",
    "        self.dataset = pd.read_csv(self.path)\n",
    "        return self.dataset\n",
    "    \n",
    "    # Define as variáveis fuzzy\n",
    "    def definir_variaveis_fuzzy(self):\n",
    "        \n",
    "        # Domínios das variáveis (ajuste conforme o dataset)\n",
    "        self.age = ctrl.Antecedent(np.arange(25, 80, 1), 'age')\n",
    "        self.chol = ctrl.Antecedent(np.arange(100, 400, 1), 'chol')\n",
    "        self.trestbps = ctrl.Antecedent(np.arange(80, 200, 1), 'trestbps')\n",
    "        self.oldpeak = ctrl.Antecedent(np.arange(0, 6, 0.1), 'oldpeak')\n",
    "        \n",
    "        # self.risco = ctrl.Consequent(np.arange(0, 1.1, 1), 'risco')\n",
    "        self.risco = ctrl.Consequent(np.arange(0, 1.01, 0.01), 'risco')\n",
    "        \n",
    "        # Funções de pertinência com base nas variaveis médicas (De entrada)\n",
    "        self.age['jovem'] = fuzz.trimf(self.age.universe, [25, 30, 40])\n",
    "        self.age['meia'] = fuzz.trimf(self.age.universe, [35, 50, 65])\n",
    "        self.age['idoso'] = fuzz.trimf(self.age.universe, [60, 70, 80])\n",
    "        \n",
    "        self.chol['baixo'] = fuzz.trimf(self.chol.universe, [100, 150, 200])\n",
    "        self.chol['moderado'] = fuzz.trimf(self.chol.universe, [180, 240, 280])\n",
    "        self.chol['alto'] = fuzz.trimf(self.chol.universe, [250, 300, 400])\n",
    "        \n",
    "        self.trestbps['normal'] = fuzz.trimf(self.trestbps.universe, [80, 110, 130])\n",
    "        self.trestbps['elevada'] = fuzz.trimf(self.trestbps.universe, [120, 140, 160])\n",
    "        self.trestbps['alta'] = fuzz.trimf(self.trestbps.universe, [150, 170, 200])\n",
    "        \n",
    "        self.oldpeak['leve'] = fuzz.trimf(self.oldpeak.universe, [0, 0.5, 1.5])\n",
    "        self.oldpeak['moderada'] = fuzz.trimf(self.oldpeak.universe, [1, 2, 3])\n",
    "        self.oldpeak['severa'] = fuzz.trimf(self.oldpeak.universe, [2.5, 4, 6])\n",
    "        \n",
    "        self.risco['baixo'] = fuzz.trimf(self.risco.universe, [0, 0.2, 0.4])\n",
    "        self.risco['moderado'] = fuzz.trimf(self.risco.universe, [0.3, 0.5, 0.7])\n",
    "        self.risco['alto'] = fuzz.trimf(self.risco.universe, [0.6, 0.8, 1])\n",
    "    \n",
    "    # Adiciona regras fuzzy\n",
    "    def adicionar_regras(self):\n",
    "        \n",
    "        # Exemplo de regras médicas\n",
    "        r1 = ctrl.Rule(self.age['idoso'] & self.chol['alto'], self.risco['alto'])\n",
    "        r2 = ctrl.Rule(self.trestbps['alta'] & self.oldpeak['severa'], self.risco['alto'])\n",
    "        r3 = ctrl.Rule(self.age['jovem'] & self.chol['baixo'], self.risco['baixo'])\n",
    "        r4 = ctrl.Rule(self.trestbps['normal'] & self.oldpeak['leve'], self.risco['baixo'])\n",
    "        r5 = ctrl.Rule(self.age['meia'] & self.chol['moderado'] & self.oldpeak['moderada'], self.risco['moderado'])\n",
    "        \n",
    "        # Adiciona as regras ao sistema\n",
    "        self.rules = [r1, r2, r3, r4, r5]\n",
    "    \n",
    "    # CVonstruir o sistema fuzzy\n",
    "    def construir_sistema(self):\n",
    "        \n",
    "        # Cria o sistema de controle fuzzy\n",
    "        system_ctrl = ctrl.ControlSystem(self.rules)\n",
    "        self.simulation = ctrl.ControlSystemSimulation(system_ctrl)\n",
    "        \n",
    "    # Avalia um paciente com base nos dados\n",
    "    def avaliar_paciente(self, dados):\n",
    "        \n",
    "        # Exemplo: dados = {'age': 55, 'chol': 270, 'trestbps': 145, 'oldpeak': 2.2}\n",
    "        # Define os valores das variáveis fuzzy\n",
    "        \n",
    "        for var in dados:\n",
    "            self.simulation.input[var] = dados[var]\n",
    "        \n",
    "        # Computa a saída do sistema fuzzy\n",
    "        self.simulation.compute()\n",
    "        return self.simulation.output['risco']\n",
    "    \n",
    "    # Avalia um caso clínico específico\n",
    "    def avaliar_caso_clinico(self, perfil, dados, target=None):\n",
    "        print(f\"Perfil do paciente: {perfil}\")\n",
    "        \n",
    "        # Avalia o risco\n",
    "        risco = self.avaliar_paciente(dados)\n",
    "        print(f\"Risco fuzzy estimado: {risco:.2f}\")\n",
    "        \n",
    "        # Validação com target (se fornecido)\n",
    "        if target is not None:\n",
    "            print(f\"Diagnóstico real: {'Doente' if target==1 else 'Saudável'}\")\n",
    "            print(f\"Avaliação: {'Acertou' if (risco > 0.6 and target==1) or (risco < 0.4 and target==0) else 'Divergente'}\")\n",
    "    \n",
    "    # Vallidar com o target do dataset\n",
    "    def validar_com_target(self, X, y_real):\n",
    "        \n",
    "        # Verifica se o sistema foi construído\n",
    "        if self.simulation is None:\n",
    "            raise ValueError(\"O sistema fuzzy não foi construído. Chame 'construir_sistema()' primeiro.\")\n",
    "        \n",
    "        prediction = []\n",
    "        for i in range(len(X)):\n",
    "            entrada = X.iloc[i].to_dict()\n",
    "            pred = self.avaliar_paciente(entrada)\n",
    "            prediction.append(pred)\n",
    "            \n",
    "        resultados = pd.DataFrame({'real': y_real, 'fuzzy': prediction})\n",
    "        resultados['classificado'] = resultados['fuzzy'].apply(lambda x: 1 if x > 0.5 else 0)\n",
    "        \n",
    "        # Acurácia\n",
    "        acuracia = np.mean(resultados['classificado'] == resultados['real'])\n",
    "        print(f\"Acurácia do sistema fuzzy: {acuracia:.2%}\")\n",
    "        \n",
    "        return resultados\n",
    "        \n",
    "            "
   ]
  },
  {
   "cell_type": "markdown",
   "id": "2862a34f",
   "metadata": {},
   "source": [
    "### Testando os métodos"
   ]
  },
  {
   "cell_type": "markdown",
   "id": "9a7b06ea",
   "metadata": {},
   "source": [
    "#### Etapa 1: Inicialização e Dataset"
   ]
  },
  {
   "cell_type": "code",
   "execution_count": 17,
   "id": "321195f5",
   "metadata": {},
   "outputs": [
    {
     "data": {
      "text/html": [
       "<div>\n",
       "<style scoped>\n",
       "    .dataframe tbody tr th:only-of-type {\n",
       "        vertical-align: middle;\n",
       "    }\n",
       "\n",
       "    .dataframe tbody tr th {\n",
       "        vertical-align: top;\n",
       "    }\n",
       "\n",
       "    .dataframe thead th {\n",
       "        text-align: right;\n",
       "    }\n",
       "</style>\n",
       "<table border=\"1\" class=\"dataframe\">\n",
       "  <thead>\n",
       "    <tr style=\"text-align: right;\">\n",
       "      <th></th>\n",
       "      <th>age</th>\n",
       "      <th>sex</th>\n",
       "      <th>cp</th>\n",
       "      <th>trestbps</th>\n",
       "      <th>chol</th>\n",
       "      <th>fbs</th>\n",
       "      <th>restecg</th>\n",
       "      <th>thalach</th>\n",
       "      <th>exang</th>\n",
       "      <th>oldpeak</th>\n",
       "      <th>slope</th>\n",
       "      <th>ca</th>\n",
       "      <th>thal</th>\n",
       "      <th>target</th>\n",
       "    </tr>\n",
       "  </thead>\n",
       "  <tbody>\n",
       "    <tr>\n",
       "      <th>0</th>\n",
       "      <td>52</td>\n",
       "      <td>1</td>\n",
       "      <td>0</td>\n",
       "      <td>125</td>\n",
       "      <td>212</td>\n",
       "      <td>0</td>\n",
       "      <td>1</td>\n",
       "      <td>168</td>\n",
       "      <td>0</td>\n",
       "      <td>1.0</td>\n",
       "      <td>2</td>\n",
       "      <td>2</td>\n",
       "      <td>3</td>\n",
       "      <td>0</td>\n",
       "    </tr>\n",
       "    <tr>\n",
       "      <th>1</th>\n",
       "      <td>53</td>\n",
       "      <td>1</td>\n",
       "      <td>0</td>\n",
       "      <td>140</td>\n",
       "      <td>203</td>\n",
       "      <td>1</td>\n",
       "      <td>0</td>\n",
       "      <td>155</td>\n",
       "      <td>1</td>\n",
       "      <td>3.1</td>\n",
       "      <td>0</td>\n",
       "      <td>0</td>\n",
       "      <td>3</td>\n",
       "      <td>0</td>\n",
       "    </tr>\n",
       "    <tr>\n",
       "      <th>2</th>\n",
       "      <td>70</td>\n",
       "      <td>1</td>\n",
       "      <td>0</td>\n",
       "      <td>145</td>\n",
       "      <td>174</td>\n",
       "      <td>0</td>\n",
       "      <td>1</td>\n",
       "      <td>125</td>\n",
       "      <td>1</td>\n",
       "      <td>2.6</td>\n",
       "      <td>0</td>\n",
       "      <td>0</td>\n",
       "      <td>3</td>\n",
       "      <td>0</td>\n",
       "    </tr>\n",
       "    <tr>\n",
       "      <th>3</th>\n",
       "      <td>61</td>\n",
       "      <td>1</td>\n",
       "      <td>0</td>\n",
       "      <td>148</td>\n",
       "      <td>203</td>\n",
       "      <td>0</td>\n",
       "      <td>1</td>\n",
       "      <td>161</td>\n",
       "      <td>0</td>\n",
       "      <td>0.0</td>\n",
       "      <td>2</td>\n",
       "      <td>1</td>\n",
       "      <td>3</td>\n",
       "      <td>0</td>\n",
       "    </tr>\n",
       "    <tr>\n",
       "      <th>4</th>\n",
       "      <td>62</td>\n",
       "      <td>0</td>\n",
       "      <td>0</td>\n",
       "      <td>138</td>\n",
       "      <td>294</td>\n",
       "      <td>1</td>\n",
       "      <td>1</td>\n",
       "      <td>106</td>\n",
       "      <td>0</td>\n",
       "      <td>1.9</td>\n",
       "      <td>1</td>\n",
       "      <td>3</td>\n",
       "      <td>2</td>\n",
       "      <td>0</td>\n",
       "    </tr>\n",
       "    <tr>\n",
       "      <th>...</th>\n",
       "      <td>...</td>\n",
       "      <td>...</td>\n",
       "      <td>...</td>\n",
       "      <td>...</td>\n",
       "      <td>...</td>\n",
       "      <td>...</td>\n",
       "      <td>...</td>\n",
       "      <td>...</td>\n",
       "      <td>...</td>\n",
       "      <td>...</td>\n",
       "      <td>...</td>\n",
       "      <td>...</td>\n",
       "      <td>...</td>\n",
       "      <td>...</td>\n",
       "    </tr>\n",
       "    <tr>\n",
       "      <th>1020</th>\n",
       "      <td>59</td>\n",
       "      <td>1</td>\n",
       "      <td>1</td>\n",
       "      <td>140</td>\n",
       "      <td>221</td>\n",
       "      <td>0</td>\n",
       "      <td>1</td>\n",
       "      <td>164</td>\n",
       "      <td>1</td>\n",
       "      <td>0.0</td>\n",
       "      <td>2</td>\n",
       "      <td>0</td>\n",
       "      <td>2</td>\n",
       "      <td>1</td>\n",
       "    </tr>\n",
       "    <tr>\n",
       "      <th>1021</th>\n",
       "      <td>60</td>\n",
       "      <td>1</td>\n",
       "      <td>0</td>\n",
       "      <td>125</td>\n",
       "      <td>258</td>\n",
       "      <td>0</td>\n",
       "      <td>0</td>\n",
       "      <td>141</td>\n",
       "      <td>1</td>\n",
       "      <td>2.8</td>\n",
       "      <td>1</td>\n",
       "      <td>1</td>\n",
       "      <td>3</td>\n",
       "      <td>0</td>\n",
       "    </tr>\n",
       "    <tr>\n",
       "      <th>1022</th>\n",
       "      <td>47</td>\n",
       "      <td>1</td>\n",
       "      <td>0</td>\n",
       "      <td>110</td>\n",
       "      <td>275</td>\n",
       "      <td>0</td>\n",
       "      <td>0</td>\n",
       "      <td>118</td>\n",
       "      <td>1</td>\n",
       "      <td>1.0</td>\n",
       "      <td>1</td>\n",
       "      <td>1</td>\n",
       "      <td>2</td>\n",
       "      <td>0</td>\n",
       "    </tr>\n",
       "    <tr>\n",
       "      <th>1023</th>\n",
       "      <td>50</td>\n",
       "      <td>0</td>\n",
       "      <td>0</td>\n",
       "      <td>110</td>\n",
       "      <td>254</td>\n",
       "      <td>0</td>\n",
       "      <td>0</td>\n",
       "      <td>159</td>\n",
       "      <td>0</td>\n",
       "      <td>0.0</td>\n",
       "      <td>2</td>\n",
       "      <td>0</td>\n",
       "      <td>2</td>\n",
       "      <td>1</td>\n",
       "    </tr>\n",
       "    <tr>\n",
       "      <th>1024</th>\n",
       "      <td>54</td>\n",
       "      <td>1</td>\n",
       "      <td>0</td>\n",
       "      <td>120</td>\n",
       "      <td>188</td>\n",
       "      <td>0</td>\n",
       "      <td>1</td>\n",
       "      <td>113</td>\n",
       "      <td>0</td>\n",
       "      <td>1.4</td>\n",
       "      <td>1</td>\n",
       "      <td>1</td>\n",
       "      <td>3</td>\n",
       "      <td>0</td>\n",
       "    </tr>\n",
       "  </tbody>\n",
       "</table>\n",
       "<p>1025 rows × 14 columns</p>\n",
       "</div>"
      ],
      "text/plain": [
       "      age  sex  cp  trestbps  chol  fbs  restecg  thalach  exang  oldpeak  \\\n",
       "0      52    1   0       125   212    0        1      168      0      1.0   \n",
       "1      53    1   0       140   203    1        0      155      1      3.1   \n",
       "2      70    1   0       145   174    0        1      125      1      2.6   \n",
       "3      61    1   0       148   203    0        1      161      0      0.0   \n",
       "4      62    0   0       138   294    1        1      106      0      1.9   \n",
       "...   ...  ...  ..       ...   ...  ...      ...      ...    ...      ...   \n",
       "1020   59    1   1       140   221    0        1      164      1      0.0   \n",
       "1021   60    1   0       125   258    0        0      141      1      2.8   \n",
       "1022   47    1   0       110   275    0        0      118      1      1.0   \n",
       "1023   50    0   0       110   254    0        0      159      0      0.0   \n",
       "1024   54    1   0       120   188    0        1      113      0      1.4   \n",
       "\n",
       "      slope  ca  thal  target  \n",
       "0         2   2     3       0  \n",
       "1         0   0     3       0  \n",
       "2         0   0     3       0  \n",
       "3         2   1     3       0  \n",
       "4         1   3     2       0  \n",
       "...     ...  ..   ...     ...  \n",
       "1020      2   0     2       1  \n",
       "1021      1   1     3       0  \n",
       "1022      1   1     2       0  \n",
       "1023      2   0     2       1  \n",
       "1024      1   1     3       0  \n",
       "\n",
       "[1025 rows x 14 columns]"
      ]
     },
     "execution_count": 17,
     "metadata": {},
     "output_type": "execute_result"
    }
   ],
   "source": [
    "# 1. Instancia o cardiologista\n",
    "cardio = CardiologistaFuzzy()\n",
    "\n",
    "# 2. Carrega o dataset (se quiser explorar os dados)\n",
    "cardio.carregar_dataset()"
   ]
  },
  {
   "cell_type": "markdown",
   "id": "1529f3f0",
   "metadata": {},
   "source": [
    "####  Etapa 2: Variáveis fuzzy + Regras"
   ]
  },
  {
   "cell_type": "code",
   "execution_count": 18,
   "id": "4867500d",
   "metadata": {},
   "outputs": [],
   "source": [
    "\n",
    "# 3. Define variáveis fuzzy\n",
    "cardio.definir_variaveis_fuzzy()\n",
    "\n",
    "# 4. Adiciona regras médicas\n",
    "cardio.adicionar_regras()"
   ]
  },
  {
   "cell_type": "markdown",
   "id": "568a6ed8",
   "metadata": {},
   "source": [
    "#### Etapa 3: Monta o sistema fuzzy"
   ]
  },
  {
   "cell_type": "code",
   "execution_count": 19,
   "id": "a0cc8686",
   "metadata": {},
   "outputs": [],
   "source": [
    "# 5. Constrói o sistema fuzzy\n",
    "cardio.construir_sistema()"
   ]
  },
  {
   "cell_type": "markdown",
   "id": "c938aa05",
   "metadata": {},
   "source": [
    "#### Etapa 4: Avaliar um paciente"
   ]
  },
  {
   "cell_type": "code",
   "execution_count": 23,
   "id": "a76a12fd",
   "metadata": {},
   "outputs": [],
   "source": [
    "# # 6. Simula um caso avaliar_pacienteRisco estimado para o pacienteclínico fictício\n",
    "# paciente = {\n",
    "#     'age': 58,\n",
    "#     'chol': 280,\n",
    "#     'trestbps': 150,\n",
    "#     'oldpeak': 2.5,\n",
    "# }\n",
    "\n",
    "# # Garante que o sistema fuzzy está pronto\n",
    "# if getattr(cardio, 'simulation', None) is None:\n",
    "#     cardio.definir_variaveis_fuzzy()\n",
    "#     cardio.adicionar_regras()\n",
    "#     cardio.construir_sistema()\n",
    "\n",
    "# risco = cardio.avaliar_paciente(paciente)\n",
    "# print(f\"Risco estimado para o paciente: {risco:.2f}\")"
   ]
  },
  {
   "cell_type": "markdown",
   "id": "15293ba9",
   "metadata": {},
   "source": [
    "#### Etapa 5: Avaliar Caso Clínico Realista"
   ]
  },
  {
   "cell_type": "code",
   "execution_count": null,
   "id": "3ef72e9a",
   "metadata": {},
   "outputs": [
    {
     "name": "stdout",
     "output_type": "stream",
     "text": [
      "Perfil do paciente: Executivo 45 anos, sedentário\n",
      "Risco fuzzy estimado: 0.50\n",
      "Diagnóstico real: Doente\n",
      "Avaliação: Divergente\n"
     ]
    }
   ],
   "source": [
    "# 7. Caso clínico narrativo\n",
    "cardio.avaliar_caso_clinico(\n",
    "    perfil=\"Executivo 45 anos, sedentário\",\n",
    "    dados={'age': 45, 'chol': 250, 'trestbps': 145, 'oldpeak': 1.5},\n",
    "    target=1\n",
    ")"
   ]
  },
  {
   "cell_type": "markdown",
   "id": "11f1dc76",
   "metadata": {},
   "source": [
    "#### Etapa 6: Validar com o Dataset"
   ]
  },
  {
   "cell_type": "code",
   "execution_count": 22,
   "id": "a6153569",
   "metadata": {},
   "outputs": [],
   "source": [
    "# # 7. Validação com parte do dataset (exemplo com 10 primeiras linhas)\n",
    "# df = cardio.carregar_dataset()\n",
    "# X_teste = df[['age', 'chol', 'trestbps', 'oldpeak']].iloc[:10]\n",
    "# y_teste = df['target'].iloc[:10]\n",
    "\n",
    "# # Garante que o sistema fuzzy está pronto\n",
    "# if getattr(cardio, 'simulation', None) is None:\n",
    "# \tcardio.definir_variaveis_fuzzy()\n",
    "# \tcardio.adicionar_regras()\n",
    "# \tcardio.construir_sistema()\n",
    "\n",
    "# resultado = cardio.validar_com_target(X_teste, y_teste)\n",
    "# print(resultado)\n"
   ]
  },
  {
   "cell_type": "markdown",
   "id": "287642de",
   "metadata": {},
   "source": [
    "### Desafios"
   ]
  },
  {
   "cell_type": "markdown",
   "id": "1954f597",
   "metadata": {},
   "source": [
    "##### Sistema de URGÊNCIA (triagem)"
   ]
  },
  {
   "cell_type": "markdown",
   "id": "70660af8",
   "metadata": {},
   "source": [
    "##### Objetivo: Decidir se o paciente precisa ser atendido imediatamente. Foco em: gravidade instantânea dos sintomas"
   ]
  },
  {
   "cell_type": "markdown",
   "id": "90b27679",
   "metadata": {},
   "source": [
    "#### Sugestões de variáveis\n",
    "\n",
    "- cp (tipo de dor no peito)\n",
    "- oldpack (depressão do ST)\n",
    "- trestbps (presssão arterial)\n",
    "- exang (engina induzida por exercício)"
   ]
  },
  {
   "cell_type": "markdown",
   "id": "7f19bfd9",
   "metadata": {},
   "source": [
    "##### Exemplos de regras fuzzy"
   ]
  },
  {
   "cell_type": "code",
   "execution_count": null,
   "id": "27a03e64",
   "metadata": {},
   "outputs": [],
   "source": [
    "# Rule(cp['típica'] & oldpeak['severa'], urgencia['alta'])\n",
    "# Rule(trestbps['alta'] & exang['sim'], urgencia['moderada'])\n",
    "# Rule(cp['atípica'] & oldpeak['leve'], urgencia['baixa'])"
   ]
  },
  {
   "cell_type": "code",
   "execution_count": 24,
   "id": "6c24b366",
   "metadata": {},
   "outputs": [],
   "source": [
    "class SistemaUrgencia:\n",
    "    def __init__(self):\n",
    "        \n",
    "        # Definindo as variáveis fuzzy\n",
    "        self.cp = ctrl.Antecedent(np.arange(0, 4, 1), 'cp')\n",
    "        self.oldpeak = ctrl.Antecedent(np.arange(0, 6, 0.1), 'oldpeak')\n",
    "        self.urgencia = ctrl.Consequent(np.arange(0, 1.1, 0.1), 'urgencia')\n",
    "        \n",
    "        # Funções de pertinência\n",
    "        self.cp['atipica'] = fuzz.trimf(self.cp.universe, [0, 0, 1])\n",
    "        self.cp['nao_anginosa'] = fuzz.trimf(self.cp.universe, [1, 2, 3])\n",
    "        self.cp['angina'] = fuzz.trimf(self.cp.universe, [2, 3, 3])\n",
    "\n",
    "        self.oldpeak['leve'] = fuzz.trimf(self.oldpeak.universe, [0, 0.5, 1.5])\n",
    "        self.oldpeak['moderada'] = fuzz.trimf(self.oldpeak.universe, [1, 2.5, 3.5])\n",
    "        self.oldpeak['severa'] = fuzz.trimf(self.oldpeak.universe, [3, 4.5, 6])\n",
    "        \n",
    "        self.urgencia['baixa'] = fuzz.trimf(self.urgencia.universe, [0, 0.2, 0.4])\n",
    "        self.urgencia['moderada'] = fuzz.trimf(self.urgencia.universe, [0.3, 0.5, 0.7])\n",
    "        self.urgencia['alta'] = fuzz.trimf(self.urgencia.universe, [0.6, 0.8, 1])\n",
    "        \n",
    "        # Definindo as regras fuzzy\n",
    "        rules = [\n",
    "            ctrl.Rule(self.cp['angina'] & self.oldpeak['severa'], self.urgencia['alta']),\n",
    "            ctrl.Rule(self.cp['angina'] & self.oldpeak['moderada'], self.urgencia['moderada']),\n",
    "            ctrl.Rule(self.cp['nao_anginosa'] & self.oldpeak['leve'], self.urgencia['baixa']),\n",
    "        ]\n",
    "        \n",
    "        self.system = ctrl.ControlSystem(rules)\n",
    "        self.simulation = ctrl.ControlSystemSimulation(self.system)\n",
    "    \n",
    "    # Avalia um paciente com base nos dados\n",
    "    def avaliar_paciente(self, dados):\n",
    "        for var in dados:\n",
    "            self.simulation.input[var] = dados[var]\n",
    "        \n",
    "        # Computa a saída do sistema fuzzy\n",
    "        self.simulation.compute()\n",
    "        return self.simulation.output['urgencia']"
   ]
  },
  {
   "cell_type": "markdown",
   "id": "db8c3ded",
   "metadata": {},
   "source": [
    "### Sistema de PROGNÓSTICO (evolução do quadro)"
   ]
  },
  {
   "cell_type": "markdown",
   "id": "5c1c4a04",
   "metadata": {},
   "source": [
    "##### Objetivo: Estimar se o quadro tende a piorar com o tempo"
   ]
  },
  {
   "cell_type": "markdown",
   "id": "63fe9412",
   "metadata": {},
   "source": [
    "#### Sugestões de variáveis\n",
    "\n",
    "- age (idade)\n",
    "- thalach (freq. cardíaca máxima)\n",
    "- ca (número de vasos obstruídos)\n",
    "- thal (defeitos reversíveis ou fixos)"
   ]
  },
  {
   "cell_type": "markdown",
   "id": "1b5df3c3",
   "metadata": {},
   "source": [
    "##### Exemplos de regras fuzzy"
   ]
  },
  {
   "cell_type": "code",
   "execution_count": null,
   "id": "b825875a",
   "metadata": {},
   "outputs": [],
   "source": [
    "# Rule(age['idoso'] & ca['muitos'] & thal['defeito_fixo'], prognostico['ruim'])\n",
    "# Rule(thalach['alta'] & thal['normal'], prognostico['bom'])"
   ]
  },
  {
   "cell_type": "code",
   "execution_count": 25,
   "id": "735d01a8",
   "metadata": {},
   "outputs": [],
   "source": [
    "class SistemaPrognostico:\n",
    "    def __init__(self):\n",
    "        \n",
    "        # Definindo as variáveis fuzzy\n",
    "        self.age = ctrl.Antecedent(np.arange(25, 80, 1), 'age')\n",
    "        self.ca = ctrl.Antecedent(np.arange(0, 4, 1), 'ca')\n",
    "        self.thal = ctrl.Antecedent(np.arange(0, 4, 1), 'thal')\n",
    "        self.prognostico = ctrl.Consequent(np.arange(0, 1.1, 0.1), 'prognostico')\n",
    "        \n",
    "        # Funções de pertinência\n",
    "        self.age['jovem'] = fuzz.trimf(self.age.universe, [25, 30, 40])\n",
    "        self.age['meia'] = fuzz.trimf(self.age.universe, [35, 50, 65])\n",
    "        self.age['idoso'] = fuzz.trimf(self.age.universe, [60, 70, 80])\n",
    "        \n",
    "        self.ca['poucos'] = fuzz.trimf(self.ca.universe, [0, 1, 2])\n",
    "        self.ca['muitos'] = fuzz.trimf(self.ca.universe, [2, 3, 4])\n",
    "        \n",
    "        self.thal['normal'] = fuzz.trimf(self.thal.universe, [0, 1, 2])\n",
    "        self.thal['reversivel'] = fuzz.trimf(self.thal.universe, [2, 3, 4])\n",
    "        \n",
    "        self.prognostico['bom'] = fuzz.trimf(self.prognostico.universe, [0, 0.2, 0.4])\n",
    "        self.prognostico['moderado'] = fuzz.trimf(self.prognostico.universe, [0.3, 0.5, 0.7])\n",
    "        self.prognostico['ruim'] = fuzz.trimf(self.prognostico.universe, [0.6, 0.8, 1])\n",
    "        \n",
    "        # Definindo as regras fuzzy\n",
    "        rules = [\n",
    "            ctrl.Rule(self.age['idoso'] & self.ca['muitos'] & self.thal['reversivel'], self.prognostico['ruim']),\n",
    "            ctrl.Rule(self.age['jovem'] & self.ca['poucos'] & self.thal['normal'], self.prognostico['bom']),\n",
    "        ]\n",
    "        \n",
    "        self.system = ctrl.ControlSystem(rules)\n",
    "        self.simulation = ctrl.ControlSystemSimulation(self.system)\n",
    "    \n",
    "    # Avalia um paciente com base nos dados\n",
    "    def avaliar_paciente(self, dados):\n",
    "        for var in dados:\n",
    "            self.simulation.input[var] = dados[var]\n",
    "        \n",
    "        # Computa a saída do sistema fuzzy\n",
    "        self.simulation.compute()\n",
    "        return self.simulation.output['prognostico']"
   ]
  },
  {
   "cell_type": "markdown",
   "id": "3f927d02",
   "metadata": {},
   "source": [
    "### Sistema de PREVENÇÃO (lifestyle / orientação)"
   ]
  },
  {
   "cell_type": "markdown",
   "id": "36f3262b",
   "metadata": {},
   "source": [
    "#### Objetivo: Orientar pacientes sobre riscos modificáveis no estilo de vida"
   ]
  },
  {
   "cell_type": "markdown",
   "id": "b5de4106",
   "metadata": {},
   "source": [
    "#### Sugestão de variáveis"
   ]
  },
  {
   "cell_type": "markdown",
   "id": "168b9132",
   "metadata": {},
   "source": [
    "- chol (colesterol)\n",
    "- fbs (glicemia de jejum)\n",
    "- trestbps (pressão)\n",
    "- age + sex (pra identificar perfil de risco precoce)"
   ]
  },
  {
   "cell_type": "markdown",
   "id": "f70df075",
   "metadata": {},
   "source": [
    "##### Exemplos de regras fuzzy"
   ]
  },
  {
   "cell_type": "code",
   "execution_count": null,
   "id": "3e8b3694",
   "metadata": {},
   "outputs": [],
   "source": [
    "# Rule(chol['alto'] & fbs['alto'], prevencao['alta'])\n",
    "# Rule(trestbps['normal'] & chol['baixo'], prevencao['baixa'])"
   ]
  },
  {
   "cell_type": "code",
   "execution_count": 26,
   "id": "e78338fd",
   "metadata": {},
   "outputs": [],
   "source": [
    "class SistemaPrevencao:\n",
    "    def __init__(self):\n",
    "        \n",
    "        # Definindo as variáveis fuzzy\n",
    "        self.chol = ctrl.Antecedent(np.arange(100, 400, 1), 'chol')\n",
    "        self.fbs = ctrl.Antecedent(np.arange(0, 2, 1), 'fbs')\n",
    "        self.prevencao = ctrl.Consequent(np.arange(0, 1.1, 0.1), 'prevencao')\n",
    "        \n",
    "        # Funções de pertinência\n",
    "        self.chol['baixo'] = fuzz.trimf(self.chol.universe, [100, 150, 200])\n",
    "        self.chol['alto'] = fuzz.trimf(self.chol.universe, [250, 300, 400])\n",
    "        \n",
    "        self.fbs['normal'] = fuzz.trimf(self.fbs.universe, [0, 0, 1])\n",
    "        self.fbs['elevada'] = fuzz.trimf(self.fbs.universe, [1, 1, 2])\n",
    "        \n",
    "        self.prevencao['baixa'] = fuzz.trimf(self.prevencao.universe, [0, 0.2, 0.4])\n",
    "        self.prevencao['alta'] = fuzz.trimf(self.prevencao.universe, [0.6, 0.8, 1])\n",
    "        \n",
    "        rules = [\n",
    "            ctrl.Rule(self.chol['alto'] & self.fbs['elevada'], self.prevencao['alta']),\n",
    "            ctrl.Rule(self.chol['baixo'] & self.fbs['normal'], self.prevencao['baixa']),\n",
    "        ]\n",
    "        \n",
    "        self.system = ctrl.ControlSystem(rules)\n",
    "        self.simulation = ctrl.ControlSystemSimulation(self.system)\n",
    "\n",
    "    # Avalia um paciente com base nos dados\n",
    "    def avaliar_paciente(self, dados):\n",
    "        for var in dados:\n",
    "            self.simulation.input[var] = dados[var]\n",
    "        \n",
    "        # Computa a saída do sistema fuzzy\n",
    "        self.simulation.compute()\n",
    "        return self.simulation.output['prevencao']"
   ]
  },
  {
   "cell_type": "markdown",
   "id": "570b63c8",
   "metadata": {},
   "source": [
    "### Sistema PEDIÁTRICO (crianças/adolescentes)"
   ]
  },
  {
   "cell_type": "markdown",
   "id": "d226dce6",
   "metadata": {},
   "source": [
    "#### Objetivo: Detectar riscos em pacientes jovens (mesmo que incomuns)"
   ]
  },
  {
   "cell_type": "markdown",
   "id": "60c8634b",
   "metadata": {},
   "source": [
    "#### Sugestões de variáveis"
   ]
  },
  {
   "cell_type": "markdown",
   "id": "dd625286",
   "metadata": {},
   "source": [
    "- age (focar em idade < 30)\n",
    "- chol, fbs, cp, restecg"
   ]
  },
  {
   "cell_type": "markdown",
   "id": "78788efa",
   "metadata": {},
   "source": [
    "#### Estratégia: Cruar uam nova função de pertiência par age"
   ]
  },
  {
   "cell_type": "code",
   "execution_count": null,
   "id": "ec6d150f",
   "metadata": {},
   "outputs": [],
   "source": [
    "# age['crianca'] = fuzz.trimf(age.universe, [0, 10, 20])\n",
    "# age['jovem'] = fuzz.trimf(age.universe, [15, 25, 35])"
   ]
  },
  {
   "cell_type": "markdown",
   "id": "fd69ac2d",
   "metadata": {},
   "source": [
    "#### Exemplos de regras fuzzy"
   ]
  },
  {
   "cell_type": "code",
   "execution_count": null,
   "id": "008abbe1",
   "metadata": {},
   "outputs": [],
   "source": [
    "# Rule(age['crianca'] & chol['alto'], risco['alto'])\n",
    "# Rule(age['jovem'] & cp['típica'], risco['moderado'])"
   ]
  },
  {
   "cell_type": "code",
   "execution_count": 27,
   "id": "a0741a68",
   "metadata": {},
   "outputs": [],
   "source": [
    "class SistemaPrediatrico:\n",
    "    def __init__(self):\n",
    "        \n",
    "        # Definindo as variáveis fuzzy\n",
    "        self.age = ctrl.Antecedent(np.arange(0, 40, 1), 'age')\n",
    "        self.chol = ctrl.Antecedent(np.arange(100, 300, 1), 'chol')\n",
    "        self.risco = ctrl.Consequent(np.arange(0, 1.1, 0.1), 'risco')\n",
    "        \n",
    "        # Funções de pertinência\n",
    "        self.age['crianca'] = fuzz.trimf(self.age.universe, [0, 10, 20])\n",
    "        self.age['jovem'] = fuzz.trimf(self.age.universe, [15, 25, 35])\n",
    "        \n",
    "        self.chol['normal'] = fuzz.trimf(self.chol.universe, [100, 150, 200])\n",
    "        self.chol['alto'] = fuzz.trimf(self.chol.universe, [180, 240, 300])\n",
    "        \n",
    "        self.risco['baixo'] = fuzz.trimf(self.risco.universe, [0, 0.2, 0.4])\n",
    "        self.risco['alto'] = fuzz.trimf(self.risco.universe, [0.6, 0.8, 1])\n",
    "        \n",
    "        # Regras fuzzy\n",
    "        rules = [\n",
    "            ctrl.Rule(self.age['crianca'] & self.chol['alto'], self.risco['alto']),\n",
    "            ctrl.Rule(self.age['jovem'] & self.chol['normal'], self.risco['baixo']),\n",
    "        ]\n",
    "        \n",
    "        self.system = ctrl.ControlSystem(rules)\n",
    "        self.simulation = ctrl.ControlSystemSimulation(self.system)\n",
    "    \n",
    "    # Avalia um paciente com base nos dados\n",
    "    def avaliar_paciente(self, dados):\n",
    "        for var in dados:\n",
    "            self.simulation.input[var] = dados[var]\n",
    "        \n",
    "        # Computa a saída do sistema fuzzy\n",
    "        self.simulation.compute()\n",
    "        return self.simulation.output['risco']"
   ]
  },
  {
   "cell_type": "markdown",
   "id": "e05d7ebd",
   "metadata": {},
   "source": [
    "### Testando os sistemas"
   ]
  },
  {
   "cell_type": "markdown",
   "id": "a2f848d8",
   "metadata": {},
   "source": [
    "#### Sistema de URGÊNCIA (triagem)"
   ]
  },
  {
   "cell_type": "code",
   "execution_count": null,
   "id": "82aea4d3",
   "metadata": {},
   "outputs": [
    {
     "name": "stdout",
     "output_type": "stream",
     "text": [
      "[URGÊNCIA] Risco de urgência: 0.60\n"
     ]
    }
   ],
   "source": [
    "urgencia = SistemaUrgencia()\n",
    "\n",
    "# Regra de urgência: dor típica + ST depressiva alta\n",
    "paciente_urgencia = {'cp': 3, 'oldpeak': 3.2}  # dor típica + ST depressiva alta\n",
    "risco = urgencia.avaliar_paciente(paciente_urgencia)\n",
    "print(f\"[URGÊNCIA] Risco de urgência: {risco:.2f}\")"
   ]
  },
  {
   "cell_type": "markdown",
   "id": "1ee443f0",
   "metadata": {},
   "source": [
    "#### Sistema de PROGNÓSTICO (evolução)"
   ]
  },
  {
   "cell_type": "code",
   "execution_count": 32,
   "id": "2e97afe5",
   "metadata": {},
   "outputs": [
    {
     "name": "stdout",
     "output_type": "stream",
     "text": [
      "[PROGNÓSTICO] Risco de evolução negativa: 0.80\n"
     ]
    }
   ],
   "source": [
    "prognostico = SistemaPrognostico()\n",
    "\n",
    "# Regra de prognóstico: idoso com obstruções graves e defeito reversível\n",
    "paciente_prog = {'age': 67, 'ca': 3, 'thal': 7}  # idoso com obstruções graves e defeito reversível\n",
    "risco = prognostico.avaliar_paciente(paciente_prog)\n",
    "print(f\"[PROGNÓSTICO] Risco de evolução negativa: {risco:.2f}\")\n"
   ]
  },
  {
   "cell_type": "markdown",
   "id": "3371c743",
   "metadata": {},
   "source": [
    "#### Sistema de PREVENÇÃO (lifestyle)"
   ]
  },
  {
   "cell_type": "code",
   "execution_count": 33,
   "id": "2363f8f3",
   "metadata": {},
   "outputs": [
    {
     "name": "stdout",
     "output_type": "stream",
     "text": [
      "[PREVENÇÃO] Risco por estilo de vida: 0.80\n"
     ]
    }
   ],
   "source": [
    "prevencao = SistemaPrevencao()\n",
    "\n",
    "# Regra de prevenção: colesterol alto + glicemia alterada\n",
    "paciente_prev = {'chol': 290, 'fbs': 1}  # colesterol alto + glicemia alterada\n",
    "risco = prevencao.avaliar_paciente(paciente_prev)\n",
    "print(f\"[PREVENÇÃO] Risco por estilo de vida: {risco:.2f}\")\n"
   ]
  },
  {
   "cell_type": "markdown",
   "id": "ff818f9b",
   "metadata": {},
   "source": [
    "#### Sistema PEDIÁTRICO (crianças)"
   ]
  },
  {
   "cell_type": "code",
   "execution_count": 35,
   "id": "5eabde1b",
   "metadata": {},
   "outputs": [
    {
     "name": "stdout",
     "output_type": "stream",
     "text": [
      "[PEDIÁTRICO] Risco cardiovascular pediátrico: 0.80\n"
     ]
    }
   ],
   "source": [
    "pediatrico = SistemaPrediatrico()\n",
    "\n",
    "# Regra pediátrica: criança com colesterol alto\n",
    "crianca = {'age': 10, 'chol': 260}  # criança com colesterol elevado\n",
    "risco = pediatrico.avaliar_paciente(crianca)\n",
    "print(f\"[PEDIÁTRICO] Risco cardiovascular pediátrico: {risco:.2f}\")\n"
   ]
  }
 ],
 "metadata": {
  "kernelspec": {
   "display_name": "Python 3",
   "language": "python",
   "name": "python3"
  },
  "language_info": {
   "codemirror_mode": {
    "name": "ipython",
    "version": 3
   },
   "file_extension": ".py",
   "mimetype": "text/x-python",
   "name": "python",
   "nbconvert_exporter": "python",
   "pygments_lexer": "ipython3",
   "version": "3.13.2"
  }
 },
 "nbformat": 4,
 "nbformat_minor": 5
}
