{
 "cells": [
  {
   "cell_type": "markdown",
   "id": "6373cd08",
   "metadata": {},
   "source": [
    "### Previsão de doenças cardíacas"
   ]
  },
  {
   "cell_type": "code",
   "execution_count": null,
   "id": "3fab528b",
   "metadata": {},
   "outputs": [],
   "source": [
    "#  \"PROJETO 2: Heart Disease (60 min)\", um projeto educacional baseado em lógica fuzzy para avaliação de risco de doenças cardíacas. O projeto inclui: análise exploratória com identificação de variáveis críticas (\"red flags\"), implementação de regras médicas reais (como hipertensão e isquemia), construção colaborativa de sistemas fuzzy por grupos (urgência, prognóstico, prevenção, pediatria) e validação clínica com casos reais e comparação com o Score de Framingham."
   ]
  },
  {
   "cell_type": "markdown",
   "id": "5cf12c3a",
   "metadata": {},
   "source": [
    "#### Colunas do dataset (tarduzido)"
   ]
  },
  {
   "cell_type": "code",
   "execution_count": null,
   "id": "8765325b",
   "metadata": {},
   "outputs": [],
   "source": [
    "# | Coluna     | Significado                                         | Conjuntos fuzzy possíveis                       |\n",
    "# | ---------- | --------------------------------------------------- | ----------------------------------------------- |\n",
    "# | `age`      | Idade em anos                                       | jovem / meia-idade / idoso                      |\n",
    "# | `sex`      | Sexo (0=fem, 1=masc)                                | homem / mulher                                  |\n",
    "# | `cp`       | Tipo de dor no peito (0-3)                          | típica / atípica / não-anginosa / assintomática |\n",
    "# | `trestbps` | Pressão arterial em repouso (mm Hg)                 | baixa / normal / alta                           |\n",
    "# | `chol`     | Colesterol sérico (mg/dl)                           | baixo / moderado / alto                         |\n",
    "# | `fbs`      | Glicose em jejum > 120 mg/dl (1=sim)                | normal / elevado                                |\n",
    "# | `restecg`  | Resultado do ECG                                    | normal / anormal leve / anormal grave           |\n",
    "# | `thalach`  | Frequência cardíaca máxima                          | baixa / ideal / alta                            |\n",
    "# | `exang`    | Angina induzida por exercício (1=sim)               | sim / não                                       |\n",
    "# | `oldpeak`  | Depressão de ST induzida por exercício (vs repouso) | nenhuma / moderada / severa                     |\n",
    "# | `slope`    | Inclinação do segmento ST                           | ascendente / plano / descendente                |\n",
    "# | `ca`       | N° de vasos principais visíveis no exame            | nenhum / poucos / muitos                        |\n",
    "# | `thal`     | Resultado do exame thalium                          | normal / defeito fixo / reversível              |\n",
    "# | `target`   | Doença cardíaca (1=sim / 0=não)                     | doente / saudável                               |\n"
   ]
  },
  {
   "cell_type": "markdown",
   "id": "55d1dde6",
   "metadata": {},
   "source": [
    "#### Exemplos de regras fuzzy"
   ]
  },
  {
   "cell_type": "code",
   "execution_count": null,
   "id": "d482018c",
   "metadata": {},
   "outputs": [],
   "source": [
    "# Exemplo de regra fuzzy\n",
    "# SE idade > 45 E sexo == masculino E colesterol > 240 → risco = alto\n",
    "# SE dor_peito == típica E oldpeak > 1.0 → risco = alto\n",
    "# SE pressão entre 120 e 140 → risco = moderado\n",
    "# SE thalach < 100 → risco = moderado/alto\n",
    "# SE dor_peito == assintomática E ST descendente → risco = muito alto"
   ]
  },
  {
   "cell_type": "markdown",
   "id": "1338aabe",
   "metadata": {},
   "source": [
    "### Passo 1: Contexto Médico (10 min)"
   ]
  },
  {
   "cell_type": "code",
   "execution_count": null,
   "id": "b094d835",
   "metadata": {},
   "outputs": [],
   "source": [
    "# Red Flags Médicas — o que acende o alerta vermelho?\n",
    "\n",
    "# | Variável                    | Por quê é crítica?                                        |\n",
    "# | --------------------------- | --------------------------------------------------------- |\n",
    "# | `age`                       | Homens >45 e mulheres >55 têm risco aumentado.            |\n",
    "# | `sex`                       | Homens têm maior predisposição precoce.                   |\n",
    "# | `cp` (tipo de dor no peito) | Dor típica é indício forte de angina.                     |\n",
    "# | `trestbps`                  | >140 mmHg = hipertensão.                                  |\n",
    "# | `chol`                      | >240 mg/dL = hipercolesterolemia.                         |\n",
    "# | `fbs`                       | Glicemia >120 mg/dL = possível diabetes.                  |\n",
    "# | `thalach`                   | Frequência cardíaca baixa no esforço é sinal de isquemia. |\n",
    "# | `exang`                     | Se sim, maior risco de angina/infarto.                    |\n",
    "# | `oldpeak`                   | ST depression >1mm = provável isquemia.                   |\n",
    "# | `slope`                     | ST descendente = padrão de infarto.                       |\n",
    "# | `ca`                        | Mais vasos com obstrução = maior gravidade.               |\n",
    "# | `thal`                      | Defeitos reversíveis são sinais de dano funcional.        |\n"
   ]
  },
  {
   "cell_type": "markdown",
   "id": "431cab38",
   "metadata": {},
   "source": [
    "#### Cenário Clínico"
   ]
  },
  {
   "cell_type": "code",
   "execution_count": null,
   "id": "828d49c9",
   "metadata": {},
   "outputs": [],
   "source": [
    "# \"Vocês são residentes de cardiologia. Um paciente chega com:\n",
    "# - Dor no peito 'estranha'\n",
    "# - Pressão 'um pouco alta'\n",
    "# - Exames 'limítrofes'\n",
    "\n",
    "# Como decidir o risco? Protocolos médicos são naturalmente fuzzy!\""
   ]
  },
  {
   "cell_type": "markdown",
   "id": "6b0686a5",
   "metadata": {},
   "source": [
    "#### Exploração do dataset"
   ]
  },
  {
   "cell_type": "code",
   "execution_count": null,
   "id": "2e6204c8",
   "metadata": {},
   "outputs": [],
   "source": [
    "# cardio = CardiologistaFuzzy()\n",
    "# data = cardio.carregar_dataset()\n",
    "\n",
    "# # ATIVIDADE: Identifiquem os \"red flags\" médicos\n",
    "# print(\"🏥 Quais variáveis são mais críticas para cardiologistas?\""
   ]
  },
  {
   "cell_type": "markdown",
   "id": "d78a6dcf",
   "metadata": {},
   "source": [
    "### Passo 2: Sistema de Diagnóstico (30 min)"
   ]
  },
  {
   "cell_type": "markdown",
   "id": "a82a56d7",
   "metadata": {},
   "source": [
    "#### Regras Médicas Reais"
   ]
  },
  {
   "cell_type": "code",
   "execution_count": null,
   "id": "2d33aebb",
   "metadata": {},
   "outputs": [],
   "source": [
    "print(\"📚 CONHECIMENTO MÉDICO REAL:\")\n",
    "print(\"• Homens >45 anos = fator de risco\")\n",
    "print(\"• Pressão >140/90 = hipertensão\")\n",
    "print(\"• Colesterol >240 = alto risco\")\n",
    "print(\"• ST depression >1mm = isquemia provável\")"
   ]
  },
  {
   "cell_type": "markdown",
   "id": "4bcdbb3c",
   "metadata": {},
   "source": [
    "### Passo 3: Validação Clínica (20 min)"
   ]
  },
  {
   "cell_type": "markdown",
   "id": "29548082",
   "metadata": {},
   "source": [
    "#### Casos Clínicos Reais"
   ]
  },
  {
   "cell_type": "code",
   "execution_count": null,
   "id": "65e3f9b6",
   "metadata": {},
   "outputs": [],
   "source": [
    "casos_clinicos = [\n",
    "    {\n",
    "        'perfil': 'Executivo 45 anos, sedentário',\n",
    "        'dados': {...},\n",
    "        'desafio': 'Risco não óbvio'\n",
    "    },\n",
    "    {\n",
    "        'perfil': 'Atleta 30 anos, exames alterados',\n",
    "        'dados': {...},\n",
    "        'desafio': 'Contradição aparente'\n",
    "    }\n",
    "]"
   ]
  },
  {
   "cell_type": "markdown",
   "id": "d0224bf4",
   "metadata": {},
   "source": [
    "#### Comparação Com Protocolos"
   ]
  },
  {
   "cell_type": "code",
   "execution_count": null,
   "id": "f900f656",
   "metadata": {},
   "outputs": [],
   "source": [
    "# Comparar com Score de Framingham\n",
    "# Calcular sensibilidade/especificidade\n",
    "# Discutir falsos positivos vs negativos"
   ]
  },
  {
   "cell_type": "markdown",
   "id": "9fdb5383",
   "metadata": {},
   "source": [
    "#### Implementação Colaborativa (20min)"
   ]
  },
  {
   "cell_type": "code",
   "execution_count": null,
   "id": "96fd0ec8",
   "metadata": {},
   "outputs": [],
   "source": [
    "# DESAFIO POR GRUPOS:\n",
    "# Grupo 1: Sistema de URGÊNCIA (triagem)\n",
    "# Grupo 2: Sistema de PROGNÓSTICO (evolução)\n",
    "# Grupo 3: Sistema de PREVENÇÃO (lifestyle)\n",
    "# Grupo 4: Sistema PEDIÁTRICO (crianças)"
   ]
  },
  {
   "cell_type": "code",
   "execution_count": null,
   "id": "56958ee8",
   "metadata": {},
   "outputs": [],
   "source": [
    "# | Grupo      | Missão                                                                                                     |\n",
    "# | ---------- | ---------------------------------------------------------------------------------------------------------- |\n",
    "# | 🩸 Grupo 1 | **Urgência** → detectar pacientes de alto risco imediato (triagem de emergência)                           |\n",
    "# | 🔮 Grupo 2 | **Prognóstico** → prever evolução da doença com base em múltiplos fatores                                  |\n",
    "# | 🧘 Grupo 3 | **Prevenção** → identificar pacientes em risco leve/moderado que precisam mudar o estilo de vida           |\n",
    "# | 🧒 Grupo 4 | **Pediátrico** → adaptar sistema para crianças/adolescentes (idade <18, foco em obesidade/hereditariedade) |"
   ]
  },
  {
   "cell_type": "markdown",
   "id": "ae35d474",
   "metadata": {},
   "source": [
    "### Bonus: Validação Técnia"
   ]
  },
  {
   "cell_type": "code",
   "execution_count": null,
   "id": "8ca258c9",
   "metadata": {},
   "outputs": [],
   "source": [
    "# 1 - Calcular sensibilidade (detectar corretamente os doentes)\n",
    "# 2 - Calcular especificidade (não chamar de doente quem tá saudável)\n",
    "# 3 - Comparar falsos positivos (excesso de cuidado) vs falsos negativos (passou batido!)"
   ]
  },
  {
   "cell_type": "markdown",
   "id": "183b5c49",
   "metadata": {},
   "source": [
    "### Mão na massa (Quer dizer, no código)"
   ]
  },
  {
   "cell_type": "markdown",
   "id": "8950575b",
   "metadata": {},
   "source": [
    "#### Estrutura da classe"
   ]
  },
  {
   "cell_type": "code",
   "execution_count": null,
   "id": "3f7fd5d7",
   "metadata": {},
   "outputs": [],
   "source": [
    "# CardiologistaFuzzy()\n",
    "# ├── carregar_dataset()\n",
    "# ├── definir_variaveis_fuzzy()\n",
    "# ├── adicionar_regras()\n",
    "# ├── construir_sistema()\n",
    "# ├── avaliar_paciente(dados)\n",
    "# ├── validar_com_target(X, y)\n",
    "# └── avaliar_caso_clinico(perfil, dados, target)"
   ]
  },
  {
   "cell_type": "markdown",
   "id": "f9e4f332",
   "metadata": {},
   "source": [
    "#### Importando as libs (bibliotecas)"
   ]
  },
  {
   "cell_type": "code",
   "execution_count": 18,
   "id": "ec7331b8",
   "metadata": {},
   "outputs": [
    {
     "name": "stdout",
     "output_type": "stream",
     "text": [
      "Requirement already satisfied: networkx in c:\\users\\jocil\\appdata\\local\\programs\\python\\python313\\lib\\site-packages (3.5)\n",
      "Note: you may need to restart the kernel to use updated packages.\n"
     ]
    },
    {
     "name": "stderr",
     "output_type": "stream",
     "text": [
      "\n",
      "[notice] A new release of pip is available: 24.3.1 -> 25.1.1\n",
      "[notice] To update, run: python.exe -m pip install --upgrade pip\n"
     ]
    }
   ],
   "source": [
    "# Imports padronizados\n",
    "\n",
    "%pip install networkx\n",
    "\n",
    "import pandas as pd\n",
    "import numpy as np\n",
    "import matplotlib.pyplot as plt\n",
    "import seaborn as sns\n",
    "import skfuzzy as fuzz\n",
    "from skfuzzy import control as ctrl\n",
    "import warnings\n",
    "warnings.filterwarnings('ignore')\n",
    "\n",
    "# Configurações visuais\n",
    "plt.style.use('seaborn-v0_8')\n",
    "plt.rcParams['figure.figsize'] = (12, 8)\n",
    "plt.rcParams['font.size'] = 12\n",
    "\n",
    "# Funções utilitárias\n",
    "def print_section(title):\n",
    "    print(\"=\"*60)\n",
    "    print(f\"🎯 {title}\")\n",
    "    print(\"=\"*60)\n",
    "\n",
    "def print_task(task):\n",
    "    print(f\"\\n✅ TAREFA: {task}\")\n",
    "    print(\"-\"*40)"
   ]
  },
  {
   "cell_type": "code",
   "execution_count": 26,
   "id": "9f55974e",
   "metadata": {},
   "outputs": [
    {
     "name": "stdout",
     "output_type": "stream",
     "text": [
      "🔐 Username: josvitordesousa\n",
      "🔑 API Key: d1018f3da0950659bf2dbeff9a67c0a0\n"
     ]
    }
   ],
   "source": [
    "import json\n",
    "\n",
    "# Abrir e carregar o conteúdo do kaggle.json\n",
    "with open('../kaggle/kaggle.json', 'r') as file:\n",
    "    creds = json.load(file)\n",
    "\n",
    "# Extrair manualmente\n",
    "username = creds['username']\n",
    "key = creds['key']\n",
    "\n",
    "print(f\"🔐 Username: {username}\")\n",
    "print(f\"🔑 API Key: {key}\")\n"
   ]
  },
  {
   "cell_type": "markdown",
   "id": "a23258a9",
   "metadata": {},
   "source": [
    "#### Construindo a classe"
   ]
  },
  {
   "cell_type": "code",
   "execution_count": 58,
   "id": "0a9cb0fa",
   "metadata": {},
   "outputs": [],
   "source": [
    "class CardiologistaFuzzy:\n",
    "    \n",
    "    def __init__(self, path_dataset=\"../datasets/heart_disease.csv\"):\n",
    "        \n",
    "        self.path = path_dataset\n",
    "        self.dataset = None\n",
    "        \n",
    "        # Variáveis fuzzy\n",
    "        self.age = None\n",
    "        self.chol = None\n",
    "        self.trestbps = None\n",
    "        self.oldpeak = None\n",
    "        self.risco = None # Variável de saída\n",
    "        \n",
    "        self.rules = []\n",
    "        self.system = None\n",
    "        self.simulation = None\n",
    "    \n",
    "    # Carrega o dataset\n",
    "    def carregar_dataset(self):\n",
    "        self.dataset = pd.read_csv(self.path)\n",
    "        return self.dataset\n",
    "    \n",
    "    # Define as variáveis fuzzy\n",
    "    def definir_variaveis_fuzzy(self):\n",
    "        \n",
    "        # Domínios das variáveis (ajuste conforme o dataset)\n",
    "        self.age = ctrl.Antecedent(np.arange(25, 80, 1), 'age')\n",
    "        self.chol = ctrl.Antecedent(np.arange(100, 400, 1), 'chol')\n",
    "        self.trestbps = ctrl.Antecedent(np.arange(80, 200, 1), 'trestbps')\n",
    "        self.oldpeak = ctrl.Antecedent(np.arange(0, 6, 0.1), 'oldpeak')\n",
    "        \n",
    "        # self.risco = ctrl.Consequent(np.arange(0, 1.1, 1), 'risco')\n",
    "        self.risco = ctrl.Consequent(np.arange(0, 1.01, 0.01), 'risco')\n",
    "        \n",
    "        # Funções de pertinência com base nas variaveis médicas (De entrada)\n",
    "        self.age['jovem'] = fuzz.trimf(self.age.universe, [25, 30, 40])\n",
    "        self.age['meia'] = fuzz.trimf(self.age.universe, [35, 50, 65])\n",
    "        self.age['idoso'] = fuzz.trimf(self.age.universe, [60, 70, 80])\n",
    "        \n",
    "        self.chol['baixo'] = fuzz.trimf(self.chol.universe, [100, 150, 200])\n",
    "        self.chol['moderado'] = fuzz.trimf(self.chol.universe, [180, 240, 280])\n",
    "        self.chol['alto'] = fuzz.trimf(self.chol.universe, [250, 300, 400])\n",
    "        \n",
    "        self.trestbps['normal'] = fuzz.trimf(self.trestbps.universe, [80, 110, 130])\n",
    "        self.trestbps['elevada'] = fuzz.trimf(self.trestbps.universe, [120, 140, 160])\n",
    "        self.trestbps['alta'] = fuzz.trimf(self.trestbps.universe, [150, 170, 200])\n",
    "        \n",
    "        self.oldpeak['leve'] = fuzz.trimf(self.oldpeak.universe, [0, 0.5, 1.5])\n",
    "        self.oldpeak['moderada'] = fuzz.trimf(self.oldpeak.universe, [1, 2, 3])\n",
    "        self.oldpeak['severa'] = fuzz.trimf(self.oldpeak.universe, [2.5, 4, 6])\n",
    "        \n",
    "        self.risco['baixo'] = fuzz.trimf(self.risco.universe, [0, 0.2, 0.4])\n",
    "        self.risco['moderado'] = fuzz.trimf(self.risco.universe, [0.3, 0.5, 0.7])\n",
    "        self.risco['alto'] = fuzz.trimf(self.risco.universe, [0.6, 0.8, 1])\n",
    "    \n",
    "    # Adiciona regras fuzzy\n",
    "    def adicionar_regras(self):\n",
    "        \n",
    "        # Exemplo de regras médicas\n",
    "        r1 = ctrl.Rule(self.age['idoso'] & self.chol['alto'], self.risco['alto'])\n",
    "        r2 = ctrl.Rule(self.trestbps['alta'] & self.oldpeak['severa'], self.risco['alto'])\n",
    "        r3 = ctrl.Rule(self.age['jovem'] & self.chol['baixo'], self.risco['baixo'])\n",
    "        r4 = ctrl.Rule(self.trestbps['normal'] & self.oldpeak['leve'], self.risco['baixo'])\n",
    "        r5 = ctrl.Rule(self.age['meia'] & self.chol['moderado'] & self.oldpeak['moderada'], self.risco['moderado'])\n",
    "        \n",
    "        # Adiciona as regras ao sistema\n",
    "        self.rules = [r1, r2, r3, r4, r5]\n",
    "    \n",
    "    # CVonstruir o sistema fuzzy\n",
    "    def construir_sistema(self):\n",
    "        \n",
    "        # Cria o sistema de controle fuzzy\n",
    "        system_ctrl = ctrl.ControlSystem(self.rules)\n",
    "        self.simulation = ctrl.ControlSystemSimulation(system_ctrl)\n",
    "        \n",
    "    # Avalia um paciente com base nos dados\n",
    "    def avaliar_paciente(self, dados):\n",
    "        \n",
    "        # Exemplo: dados = {'age': 55, 'chol': 270, 'trestbps': 145, 'oldpeak': 2.2}\n",
    "        # Define os valores das variáveis fuzzy\n",
    "        \n",
    "        for var in dados:\n",
    "            self.simulation.input[var] = dados[var]\n",
    "        \n",
    "        # Computa a saída do sistema fuzzy\n",
    "        self.simulation.compute()\n",
    "        return self.simulation.output['risco']\n",
    "    \n",
    "    # Avalia um caso clínico específico\n",
    "    def avaliar_caso_clinico(self, perfil, dados, target=None):\n",
    "        print(f\"Perfil do paciente: {perfil}\")\n",
    "        \n",
    "        # Avalia o risco\n",
    "        risco = self.avaliar_paciente(dados)\n",
    "        print(f\"Risco fuzzy estimado: {risco:.2f}\")\n",
    "        \n",
    "        # Validação com target (se fornecido)\n",
    "        if target is not None:\n",
    "            print(f\"Diagnóstico real: {'Doente' if target==1 else 'Saudável'}\")\n",
    "            print(f\"Avaliação: {'Acertou' if (risco > 0.6 and target==1) or (risco < 0.4 and target==0) else 'Divergente'}\")\n",
    "    \n",
    "    # Vallidar com o target do dataset\n",
    "    def validar_com_target(self, X, y_real):\n",
    "        \n",
    "        # Verifica se o sistema foi construído\n",
    "        if self.simulation is None:\n",
    "            raise ValueError(\"O sistema fuzzy não foi construído. Chame 'construir_sistema()' primeiro.\")\n",
    "        \n",
    "        prediction = []\n",
    "        for i in range(len(X)):\n",
    "            entrada = X.iloc[i].to_dict()\n",
    "            pred = self.avaliar_paciente(entrada)\n",
    "            prediction.append(pred)\n",
    "            \n",
    "        resultados = pd.DataFrame({'real': y_real, 'fuzzy': prediction})\n",
    "        resultados['classificado'] = resultados['fuzzy'].apply(lambda x: 1 if x > 0.5 else 0)\n",
    "        \n",
    "        # Acurácia\n",
    "        acuracia = np.mean(resultados['classificado'] == resultados['real'])\n",
    "        print(f\"Acurácia do sistema fuzzy: {acuracia:.2%}\")\n",
    "        \n",
    "        return resultados\n",
    "        \n",
    "            "
   ]
  },
  {
   "cell_type": "markdown",
   "id": "2862a34f",
   "metadata": {},
   "source": [
    "### Testando os métodos"
   ]
  },
  {
   "cell_type": "markdown",
   "id": "9a7b06ea",
   "metadata": {},
   "source": [
    "#### Etapa 1: Inicialização e Dataset"
   ]
  },
  {
   "cell_type": "code",
   "execution_count": 64,
   "id": "321195f5",
   "metadata": {},
   "outputs": [
    {
     "data": {
      "text/html": [
       "<div>\n",
       "<style scoped>\n",
       "    .dataframe tbody tr th:only-of-type {\n",
       "        vertical-align: middle;\n",
       "    }\n",
       "\n",
       "    .dataframe tbody tr th {\n",
       "        vertical-align: top;\n",
       "    }\n",
       "\n",
       "    .dataframe thead th {\n",
       "        text-align: right;\n",
       "    }\n",
       "</style>\n",
       "<table border=\"1\" class=\"dataframe\">\n",
       "  <thead>\n",
       "    <tr style=\"text-align: right;\">\n",
       "      <th></th>\n",
       "      <th>age</th>\n",
       "      <th>sex</th>\n",
       "      <th>cp</th>\n",
       "      <th>trestbps</th>\n",
       "      <th>chol</th>\n",
       "      <th>fbs</th>\n",
       "      <th>restecg</th>\n",
       "      <th>thalach</th>\n",
       "      <th>exang</th>\n",
       "      <th>oldpeak</th>\n",
       "      <th>slope</th>\n",
       "      <th>ca</th>\n",
       "      <th>thal</th>\n",
       "      <th>target</th>\n",
       "    </tr>\n",
       "  </thead>\n",
       "  <tbody>\n",
       "    <tr>\n",
       "      <th>0</th>\n",
       "      <td>52</td>\n",
       "      <td>1</td>\n",
       "      <td>0</td>\n",
       "      <td>125</td>\n",
       "      <td>212</td>\n",
       "      <td>0</td>\n",
       "      <td>1</td>\n",
       "      <td>168</td>\n",
       "      <td>0</td>\n",
       "      <td>1.0</td>\n",
       "      <td>2</td>\n",
       "      <td>2</td>\n",
       "      <td>3</td>\n",
       "      <td>0</td>\n",
       "    </tr>\n",
       "    <tr>\n",
       "      <th>1</th>\n",
       "      <td>53</td>\n",
       "      <td>1</td>\n",
       "      <td>0</td>\n",
       "      <td>140</td>\n",
       "      <td>203</td>\n",
       "      <td>1</td>\n",
       "      <td>0</td>\n",
       "      <td>155</td>\n",
       "      <td>1</td>\n",
       "      <td>3.1</td>\n",
       "      <td>0</td>\n",
       "      <td>0</td>\n",
       "      <td>3</td>\n",
       "      <td>0</td>\n",
       "    </tr>\n",
       "    <tr>\n",
       "      <th>2</th>\n",
       "      <td>70</td>\n",
       "      <td>1</td>\n",
       "      <td>0</td>\n",
       "      <td>145</td>\n",
       "      <td>174</td>\n",
       "      <td>0</td>\n",
       "      <td>1</td>\n",
       "      <td>125</td>\n",
       "      <td>1</td>\n",
       "      <td>2.6</td>\n",
       "      <td>0</td>\n",
       "      <td>0</td>\n",
       "      <td>3</td>\n",
       "      <td>0</td>\n",
       "    </tr>\n",
       "    <tr>\n",
       "      <th>3</th>\n",
       "      <td>61</td>\n",
       "      <td>1</td>\n",
       "      <td>0</td>\n",
       "      <td>148</td>\n",
       "      <td>203</td>\n",
       "      <td>0</td>\n",
       "      <td>1</td>\n",
       "      <td>161</td>\n",
       "      <td>0</td>\n",
       "      <td>0.0</td>\n",
       "      <td>2</td>\n",
       "      <td>1</td>\n",
       "      <td>3</td>\n",
       "      <td>0</td>\n",
       "    </tr>\n",
       "    <tr>\n",
       "      <th>4</th>\n",
       "      <td>62</td>\n",
       "      <td>0</td>\n",
       "      <td>0</td>\n",
       "      <td>138</td>\n",
       "      <td>294</td>\n",
       "      <td>1</td>\n",
       "      <td>1</td>\n",
       "      <td>106</td>\n",
       "      <td>0</td>\n",
       "      <td>1.9</td>\n",
       "      <td>1</td>\n",
       "      <td>3</td>\n",
       "      <td>2</td>\n",
       "      <td>0</td>\n",
       "    </tr>\n",
       "    <tr>\n",
       "      <th>...</th>\n",
       "      <td>...</td>\n",
       "      <td>...</td>\n",
       "      <td>...</td>\n",
       "      <td>...</td>\n",
       "      <td>...</td>\n",
       "      <td>...</td>\n",
       "      <td>...</td>\n",
       "      <td>...</td>\n",
       "      <td>...</td>\n",
       "      <td>...</td>\n",
       "      <td>...</td>\n",
       "      <td>...</td>\n",
       "      <td>...</td>\n",
       "      <td>...</td>\n",
       "    </tr>\n",
       "    <tr>\n",
       "      <th>1020</th>\n",
       "      <td>59</td>\n",
       "      <td>1</td>\n",
       "      <td>1</td>\n",
       "      <td>140</td>\n",
       "      <td>221</td>\n",
       "      <td>0</td>\n",
       "      <td>1</td>\n",
       "      <td>164</td>\n",
       "      <td>1</td>\n",
       "      <td>0.0</td>\n",
       "      <td>2</td>\n",
       "      <td>0</td>\n",
       "      <td>2</td>\n",
       "      <td>1</td>\n",
       "    </tr>\n",
       "    <tr>\n",
       "      <th>1021</th>\n",
       "      <td>60</td>\n",
       "      <td>1</td>\n",
       "      <td>0</td>\n",
       "      <td>125</td>\n",
       "      <td>258</td>\n",
       "      <td>0</td>\n",
       "      <td>0</td>\n",
       "      <td>141</td>\n",
       "      <td>1</td>\n",
       "      <td>2.8</td>\n",
       "      <td>1</td>\n",
       "      <td>1</td>\n",
       "      <td>3</td>\n",
       "      <td>0</td>\n",
       "    </tr>\n",
       "    <tr>\n",
       "      <th>1022</th>\n",
       "      <td>47</td>\n",
       "      <td>1</td>\n",
       "      <td>0</td>\n",
       "      <td>110</td>\n",
       "      <td>275</td>\n",
       "      <td>0</td>\n",
       "      <td>0</td>\n",
       "      <td>118</td>\n",
       "      <td>1</td>\n",
       "      <td>1.0</td>\n",
       "      <td>1</td>\n",
       "      <td>1</td>\n",
       "      <td>2</td>\n",
       "      <td>0</td>\n",
       "    </tr>\n",
       "    <tr>\n",
       "      <th>1023</th>\n",
       "      <td>50</td>\n",
       "      <td>0</td>\n",
       "      <td>0</td>\n",
       "      <td>110</td>\n",
       "      <td>254</td>\n",
       "      <td>0</td>\n",
       "      <td>0</td>\n",
       "      <td>159</td>\n",
       "      <td>0</td>\n",
       "      <td>0.0</td>\n",
       "      <td>2</td>\n",
       "      <td>0</td>\n",
       "      <td>2</td>\n",
       "      <td>1</td>\n",
       "    </tr>\n",
       "    <tr>\n",
       "      <th>1024</th>\n",
       "      <td>54</td>\n",
       "      <td>1</td>\n",
       "      <td>0</td>\n",
       "      <td>120</td>\n",
       "      <td>188</td>\n",
       "      <td>0</td>\n",
       "      <td>1</td>\n",
       "      <td>113</td>\n",
       "      <td>0</td>\n",
       "      <td>1.4</td>\n",
       "      <td>1</td>\n",
       "      <td>1</td>\n",
       "      <td>3</td>\n",
       "      <td>0</td>\n",
       "    </tr>\n",
       "  </tbody>\n",
       "</table>\n",
       "<p>1025 rows × 14 columns</p>\n",
       "</div>"
      ],
      "text/plain": [
       "      age  sex  cp  trestbps  chol  fbs  restecg  thalach  exang  oldpeak  \\\n",
       "0      52    1   0       125   212    0        1      168      0      1.0   \n",
       "1      53    1   0       140   203    1        0      155      1      3.1   \n",
       "2      70    1   0       145   174    0        1      125      1      2.6   \n",
       "3      61    1   0       148   203    0        1      161      0      0.0   \n",
       "4      62    0   0       138   294    1        1      106      0      1.9   \n",
       "...   ...  ...  ..       ...   ...  ...      ...      ...    ...      ...   \n",
       "1020   59    1   1       140   221    0        1      164      1      0.0   \n",
       "1021   60    1   0       125   258    0        0      141      1      2.8   \n",
       "1022   47    1   0       110   275    0        0      118      1      1.0   \n",
       "1023   50    0   0       110   254    0        0      159      0      0.0   \n",
       "1024   54    1   0       120   188    0        1      113      0      1.4   \n",
       "\n",
       "      slope  ca  thal  target  \n",
       "0         2   2     3       0  \n",
       "1         0   0     3       0  \n",
       "2         0   0     3       0  \n",
       "3         2   1     3       0  \n",
       "4         1   3     2       0  \n",
       "...     ...  ..   ...     ...  \n",
       "1020      2   0     2       1  \n",
       "1021      1   1     3       0  \n",
       "1022      1   1     2       0  \n",
       "1023      2   0     2       1  \n",
       "1024      1   1     3       0  \n",
       "\n",
       "[1025 rows x 14 columns]"
      ]
     },
     "execution_count": 64,
     "metadata": {},
     "output_type": "execute_result"
    }
   ],
   "source": [
    "# 1. Instancia o cardiologista\n",
    "cardio = CardiologistaFuzzy()\n",
    "\n",
    "# 2. Carrega o dataset (se quiser explorar os dados)\n",
    "cardio.carregar_dataset()"
   ]
  },
  {
   "cell_type": "markdown",
   "id": "1529f3f0",
   "metadata": {},
   "source": [
    "####  Etapa 2: Variáveis fuzzy + Regras"
   ]
  },
  {
   "cell_type": "code",
   "execution_count": 65,
   "id": "4867500d",
   "metadata": {},
   "outputs": [],
   "source": [
    "\n",
    "# 3. Define variáveis fuzzy\n",
    "cardio.definir_variaveis_fuzzy()\n",
    "\n",
    "# 4. Adiciona regras médicas\n",
    "cardio.adicionar_regras()"
   ]
  },
  {
   "cell_type": "markdown",
   "id": "568a6ed8",
   "metadata": {},
   "source": [
    "#### Etapa 3: Monta o sistema fuzzy"
   ]
  },
  {
   "cell_type": "code",
   "execution_count": 66,
   "id": "a0cc8686",
   "metadata": {},
   "outputs": [],
   "source": [
    "# 5. Constrói o sistema fuzzy\n",
    "cardio.construir_sistema()"
   ]
  },
  {
   "cell_type": "markdown",
   "id": "c938aa05",
   "metadata": {},
   "source": [
    "#### Etapa 4: Avaliar um paciente"
   ]
  },
  {
   "cell_type": "code",
   "execution_count": null,
   "id": "a76a12fd",
   "metadata": {},
   "outputs": [
    {
     "name": "stdout",
     "output_type": "stream",
     "text": [
      "🔬 Risco estimado para o paciente: 0.50\n"
     ]
    }
   ],
   "source": [
    "# 6. Simula um caso avaliar_pacienteRisco estimado para o pacienteclínico fictício\n",
    "paciente = {\n",
    "    'age': 58,\n",
    "    'chol': 280,\n",
    "    'trestbps': 150,\n",
    "    'oldpeak': 2.5,\n",
    "}\n",
    "\n",
    "# Garante que o sistema fuzzy está pronto\n",
    "if getattr(cardio, 'simulation', None) is None:\n",
    "    cardio.definir_variaveis_fuzzy()\n",
    "    cardio.adicionar_regras()\n",
    "    cardio.construir_sistema()\n",
    "\n",
    "risco = cardio.avaliar_paciente(paciente)\n",
    "print(f\"Risco estimado para o paciente: {risco:.2f}\")"
   ]
  },
  {
   "cell_type": "markdown",
   "id": "15293ba9",
   "metadata": {},
   "source": [
    "#### Etapa 5: Avaliar Caso Clínico Realista"
   ]
  },
  {
   "cell_type": "code",
   "execution_count": 69,
   "id": "3ef72e9a",
   "metadata": {},
   "outputs": [
    {
     "name": "stdout",
     "output_type": "stream",
     "text": [
      "Perfil do paciente: Executivo 45 anos, sedentário\n",
      "Risco fuzzy estimado: 0.50\n",
      "Diagnóstico real: Doente\n",
      "Avaliação: Divergente\n"
     ]
    }
   ],
   "source": [
    "# 7. Caso clínico narrativo\n",
    "cardio.avaliar_caso_clinico(\n",
    "    perfil=\"Executivo 45 anos, sedentário\",\n",
    "    dados={'age': 45, 'chol': 250, 'trestbps': 145, 'oldpeak': 1.5},\n",
    "    target=1\n",
    ")"
   ]
  },
  {
   "cell_type": "markdown",
   "id": "11f1dc76",
   "metadata": {},
   "source": [
    "#### Etapa 6: Validar com o Dataset"
   ]
  },
  {
   "cell_type": "code",
   "execution_count": null,
   "id": "a6153569",
   "metadata": {},
   "outputs": [
    {
     "ename": "KeyError",
     "evalue": "'risco'",
     "output_type": "error",
     "traceback": [
      "\u001b[31m---------------------------------------------------------------------------\u001b[39m",
      "\u001b[31mKeyError\u001b[39m                                  Traceback (most recent call last)",
      "\u001b[36mCell\u001b[39m\u001b[36m \u001b[39m\u001b[32mIn[73]\u001b[39m\u001b[32m, line 12\u001b[39m\n\u001b[32m      9\u001b[39m \tcardio.adicionar_regras()\n\u001b[32m     10\u001b[39m \tcardio.construir_sistema()\n\u001b[32m---> \u001b[39m\u001b[32m12\u001b[39m resultado = \u001b[43mcardio\u001b[49m\u001b[43m.\u001b[49m\u001b[43mvalidar_com_target\u001b[49m\u001b[43m(\u001b[49m\u001b[43mX_teste\u001b[49m\u001b[43m,\u001b[49m\u001b[43m \u001b[49m\u001b[43my_teste\u001b[49m\u001b[43m)\u001b[49m\n\u001b[32m     13\u001b[39m \u001b[38;5;28mprint\u001b[39m(resultado)\n",
      "\u001b[36mCell\u001b[39m\u001b[36m \u001b[39m\u001b[32mIn[58]\u001b[39m\u001b[32m, line 113\u001b[39m, in \u001b[36mCardiologistaFuzzy.validar_com_target\u001b[39m\u001b[34m(self, X, y_real)\u001b[39m\n\u001b[32m    111\u001b[39m \u001b[38;5;28;01mfor\u001b[39;00m i \u001b[38;5;129;01min\u001b[39;00m \u001b[38;5;28mrange\u001b[39m(\u001b[38;5;28mlen\u001b[39m(X)):\n\u001b[32m    112\u001b[39m     entrada = X.iloc[i].to_dict()\n\u001b[32m--> \u001b[39m\u001b[32m113\u001b[39m     pred = \u001b[38;5;28;43mself\u001b[39;49m\u001b[43m.\u001b[49m\u001b[43mavaliar_paciente\u001b[49m\u001b[43m(\u001b[49m\u001b[43mentrada\u001b[49m\u001b[43m)\u001b[49m\n\u001b[32m    114\u001b[39m     prediction.append(pred)\n\u001b[32m    116\u001b[39m resultados = pd.DataFrame({\u001b[33m'\u001b[39m\u001b[33mreal\u001b[39m\u001b[33m'\u001b[39m: y_real, \u001b[33m'\u001b[39m\u001b[33mfuzzy\u001b[39m\u001b[33m'\u001b[39m: prediction})\n",
      "\u001b[36mCell\u001b[39m\u001b[36m \u001b[39m\u001b[32mIn[58]\u001b[39m\u001b[32m, line 88\u001b[39m, in \u001b[36mCardiologistaFuzzy.avaliar_paciente\u001b[39m\u001b[34m(self, dados)\u001b[39m\n\u001b[32m     86\u001b[39m \u001b[38;5;66;03m# Computa a saída do sistema fuzzy\u001b[39;00m\n\u001b[32m     87\u001b[39m \u001b[38;5;28mself\u001b[39m.simulation.compute()\n\u001b[32m---> \u001b[39m\u001b[32m88\u001b[39m \u001b[38;5;28;01mreturn\u001b[39;00m \u001b[38;5;28;43mself\u001b[39;49m\u001b[43m.\u001b[49m\u001b[43msimulation\u001b[49m\u001b[43m.\u001b[49m\u001b[43moutput\u001b[49m\u001b[43m[\u001b[49m\u001b[33;43m'\u001b[39;49m\u001b[33;43mrisco\u001b[39;49m\u001b[33;43m'\u001b[39;49m\u001b[43m]\u001b[49m\n",
      "\u001b[31mKeyError\u001b[39m: 'risco'"
     ]
    }
   ],
   "source": [
    "# # 7. Validação com parte do dataset (exemplo com 10 primeiras linhas)\n",
    "# df = cardio.carregar_dataset()\n",
    "# X_teste = df[['age', 'chol', 'trestbps', 'oldpeak']].iloc[:10]\n",
    "# y_teste = df['target'].iloc[:10]\n",
    "\n",
    "# # Garante que o sistema fuzzy está pronto\n",
    "# if getattr(cardio, 'simulation', None) is None:\n",
    "# \tcardio.definir_variaveis_fuzzy()\n",
    "# \tcardio.adicionar_regras()\n",
    "# \tcardio.construir_sistema()\n",
    "\n",
    "# resultado = cardio.validar_com_target(X_teste, y_teste)\n",
    "# print(resultado)\n"
   ]
  }
 ],
 "metadata": {
  "kernelspec": {
   "display_name": "Python 3",
   "language": "python",
   "name": "python3"
  },
  "language_info": {
   "codemirror_mode": {
    "name": "ipython",
    "version": 3
   },
   "file_extension": ".py",
   "mimetype": "text/x-python",
   "name": "python",
   "nbconvert_exporter": "python",
   "pygments_lexer": "ipython3",
   "version": "3.13.2"
  }
 },
 "nbformat": 4,
 "nbformat_minor": 5
}
