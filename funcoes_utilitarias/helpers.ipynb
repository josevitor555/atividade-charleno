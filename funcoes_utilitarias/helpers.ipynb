{
 "cells": [
  {
   "cell_type": "markdown",
   "id": "faaa6760",
   "metadata": {},
   "source": [
    "### Funções utilitárias para avaliação de modelos\n",
    "\n",
    "---\n",
    "#### calcular_framingham_score(paciente_dict)\n",
    "#### avaliar_sensibilidade(resultados)\n",
    "#### comparar_com_target(y_true, y_pred)\n",
    "#### plotar_curva_roc(y_true, y_pred_probs)\n",
    "\n",
    "---\n",
    "### Importando bibliotecas necessárias\n",
    "\n",
    "---\n",
    "#### helpers.py\n",
    "- import numpy as np\n",
    "- import pandas as pd\n",
    "- from sklearn.metrics import roc_curve, auc, confusion_matrix, ConfusionMatrixDisplay\n",
    "- import matplotlib.pyplot as plt\n",
    "\n"
   ]
  },
  {
   "cell_type": "markdown",
   "id": "03fd6abd",
   "metadata": {},
   "source": [
    "#### Importando as libs necessárias"
   ]
  },
  {
   "cell_type": "code",
   "execution_count": 2,
   "id": "1028e67b",
   "metadata": {},
   "outputs": [],
   "source": [
    "import numpy as np\n",
    "import pandas as pd\n",
    "from sklearn.metrics import roc_curve, auc, confusion_matrix, ConfusionMatrixDisplay\n",
    "import matplotlib.pyplot as plt"
   ]
  },
  {
   "cell_type": "markdown",
   "id": "09dd9d92",
   "metadata": {},
   "source": [
    "---\n",
    "#### SCORE DE FRAMINGHAM SIMPLIFICADO"
   ]
  },
  {
   "cell_type": "code",
   "execution_count": 3,
   "id": "3c6d3192",
   "metadata": {},
   "outputs": [],
   "source": [
    "def calcular_framingham_score(paciente):\n",
    "    \"\"\"\n",
    "    Calcula um score de risco baseado em critérios simples do Framingham.\n",
    "    Espera um dicionário com: age, chol, trestbps, smoker (0/1), hdl.\n",
    "    \"\"\"\n",
    "    idade = paciente.get('age', 0)\n",
    "    colesterol = paciente.get('chol', 0)\n",
    "    pressao = paciente.get('trestbps', 0)\n",
    "    fumante = paciente.get('smoker', 0)\n",
    "    hdl = paciente.get('hdl', 55)\n",
    "\n",
    "    score = 0\n",
    "\n",
    "    if idade > 50:\n",
    "        score += 2\n",
    "    if colesterol > 240:\n",
    "        score += 2\n",
    "    if pressao > 140:\n",
    "        score += 2\n",
    "    if fumante:\n",
    "        score += 2\n",
    "    if hdl < 40:\n",
    "        score += 2\n",
    "\n",
    "    return score / 10  # Normaliza para ficar entre 0 e 1"
   ]
  },
  {
   "cell_type": "markdown",
   "id": "4bf5573c",
   "metadata": {},
   "source": [
    "#### CURVA ROC E AUC"
   ]
  },
  {
   "cell_type": "code",
   "execution_count": 4,
   "id": "1ae3ead5",
   "metadata": {},
   "outputs": [],
   "source": [
    "def plotar_curva_roc(y_true, y_scores):\n",
    "    fpr, tpr, _ = roc_curve(y_true, y_scores)\n",
    "    roc_auc = auc(fpr, tpr)\n",
    "\n",
    "    plt.figure(figsize=(6, 5))\n",
    "    plt.plot(fpr, tpr, color='darkorange', lw=2, label=f'ROC Curve (AUC = {roc_auc:.2f})')\n",
    "    plt.plot([0, 1], [0, 1], color='navy', lw=2, linestyle='--')\n",
    "    plt.xlabel('False Positive Rate')\n",
    "    plt.ylabel('True Positive Rate')\n",
    "    plt.title('Curva ROC')\n",
    "    plt.legend(loc=\"lower right\")\n",
    "    plt.grid(True)\n",
    "    plt.show()"
   ]
  },
  {
   "cell_type": "markdown",
   "id": "cc91de5e",
   "metadata": {},
   "source": [
    "#### SENSIBILIDADE E ESPECIFICIDADE"
   ]
  },
  {
   "cell_type": "code",
   "execution_count": 5,
   "id": "3ab2fad9",
   "metadata": {},
   "outputs": [],
   "source": [
    "def avaliar_sensibilidade(resultados_df):\n",
    "    \"\"\"\n",
    "    Espera um DataFrame com colunas: 'real' (0/1) e 'classificado' (0/1)\n",
    "    \"\"\"\n",
    "    y_true = resultados_df['real']\n",
    "    y_pred = resultados_df['classificado']\n",
    "\n",
    "    cm = confusion_matrix(y_true, y_pred)\n",
    "    disp = ConfusionMatrixDisplay(confusion_matrix=cm)\n",
    "    disp.plot(cmap=plt.cm.Blues)\n",
    "    plt.title(\"Matriz de Confusão\")\n",
    "    plt.show()\n",
    "\n",
    "    tn, fp, fn, tp = cm.ravel()\n",
    "    sensibilidade = tp / (tp + fn) if (tp + fn) > 0 else 0\n",
    "    especificidade = tn / (tn + fp) if (tn + fp) > 0 else 0\n",
    "\n",
    "    print(f\"🎯 Sensibilidade (Recall): {sensibilidade:.2%}\")\n",
    "    print(f\"🛡️ Especificidade: {especificidade:.2%}\")\n",
    "    return sensibilidade, especificidade\n"
   ]
  }
 ],
 "metadata": {
  "kernelspec": {
   "display_name": "Python 3",
   "language": "python",
   "name": "python3"
  },
  "language_info": {
   "codemirror_mode": {
    "name": "ipython",
    "version": 3
   },
   "file_extension": ".py",
   "mimetype": "text/x-python",
   "name": "python",
   "nbconvert_exporter": "python",
   "pygments_lexer": "ipython3",
   "version": "3.13.2"
  }
 },
 "nbformat": 4,
 "nbformat_minor": 5
}
